{
  "nbformat": 4,
  "nbformat_minor": 0,
  "metadata": {
    "colab": {
      "name": "Experiment1.ipynb",
      "provenance": [],
      "collapsed_sections": [],
      "toc_visible": true,
      "authorship_tag": "ABX9TyNm4zlEuBO8kmxbkjp9XST5",
      "include_colab_link": true
    },
    "kernelspec": {
      "name": "python3",
      "display_name": "Python 3"
    },
    "language_info": {
      "name": "python"
    }
  },
  "cells": [
    {
      "cell_type": "markdown",
      "metadata": {
        "id": "view-in-github",
        "colab_type": "text"
      },
      "source": [
        "<a href=\"https://colab.research.google.com/github/xiaomeng-ma/Dissertation/blob/main/Experiment1.ipynb\" target=\"_parent\"><img src=\"https://colab.research.google.com/assets/colab-badge.svg\" alt=\"Open In Colab\"/></a>"
      ]
    },
    {
      "cell_type": "code",
      "metadata": {
        "id": "rFNYj5_ub0zi"
      },
      "source": [
        "import tensorflow as tf\n",
        "from tensorflow import keras\n",
        "from keras.callbacks import ModelCheckpoint\n",
        "from tensorflow.keras import layers, Sequential, Model, Input, optimizers\n",
        "!pip install git+https://github.com/huggingface/transformers\n",
        "from transformers import AutoTokenizer\n",
        "from transformers import AutoModel\n",
        "from torch.utils.data import DataLoader\n",
        "from transformers import AutoModelForSequenceClassification, AdamW\n",
        "import torch\n",
        "import matplotlib.pyplot as plt\n",
        "def plot_graphs(history, metric):\n",
        "    plt.plot(history.history[metric])\n",
        "    plt.plot(history.history['val_'+metric], '')\n",
        "    plt.xlabel(\"Epochs\")\n",
        "    plt.ylabel(metric)\n",
        "    plt.legend([metric, 'val_'+metric])\n",
        "    plt.show()\n",
        "\n",
        "import numpy as np\n",
        "import pandas as pd\n",
        "from pandas import DataFrame\n",
        "import itertools\n",
        "import string\n",
        "import os\n",
        "import nltk\n",
        "\n",
        "from sklearn.model_selection import train_test_split, StratifiedKFold\n",
        "\n",
        "from pydrive.auth import GoogleAuth\n",
        "from pydrive.drive import GoogleDrive\n",
        "from google.colab import auth\n",
        "from oauth2client.client import GoogleCredentials\n",
        "# Authenticate and create the PyDrive client.\n",
        "auth.authenticate_user()\n",
        "gauth = GoogleAuth()\n",
        "gauth.credentials = GoogleCredentials.get_application_default()\n",
        "drive = GoogleDrive(gauth)\n",
        "\n",
        "from google.colab import drive \n",
        "drive.mount('/content/drive')"
      ],
      "execution_count": null,
      "outputs": []
    },
    {
      "cell_type": "code",
      "metadata": {
        "id": "RCdEuR1w6q6e"
      },
      "source": [
        "file_path = '/content/drive/My Drive/Dissertation/Experiment 1'"
      ],
      "execution_count": null,
      "outputs": []
    },
    {
      "cell_type": "markdown",
      "metadata": {
        "id": "gmkaGeyulFwo"
      },
      "source": [
        "#Import Data"
      ]
    },
    {
      "cell_type": "code",
      "metadata": {
        "id": "1meEde5slI3c"
      },
      "source": [
        "df = pd.read_csv('https://raw.githubusercontent.com/xiaomeng-ma/Dissertation/main/Experiment%201/Data/english-train-high.txt', sep = '\\t', names =['root','inflection','tag'])\n",
        "df"
      ],
      "execution_count": null,
      "outputs": []
    },
    {
      "cell_type": "code",
      "metadata": {
        "id": "pEHaYyNszWkN"
      },
      "source": [
        "df_test = pd.read_csv('https://raw.githubusercontent.com/xiaomeng-ma/Dissertation/main/Experiment%201/Data/english-uncovered-test.txt', sep = '\\t', names = ['root', 'inflection','tag'])"
      ],
      "execution_count": null,
      "outputs": []
    },
    {
      "cell_type": "code",
      "metadata": {
        "colab": {
          "base_uri": "https://localhost:8080/",
          "height": 235
        },
        "id": "ex66ySm2psF1",
        "outputId": "df9239ca-bb37-4dd3-bc65-ac1aa01b0d30"
      },
      "source": [
        "df.groupby(\"tag\").count()"
      ],
      "execution_count": null,
      "outputs": [
        {
          "output_type": "execute_result",
          "data": {
            "text/html": [
              "<div>\n",
              "<style scoped>\n",
              "    .dataframe tbody tr th:only-of-type {\n",
              "        vertical-align: middle;\n",
              "    }\n",
              "\n",
              "    .dataframe tbody tr th {\n",
              "        vertical-align: top;\n",
              "    }\n",
              "\n",
              "    .dataframe thead th {\n",
              "        text-align: right;\n",
              "    }\n",
              "</style>\n",
              "<table border=\"1\" class=\"dataframe\">\n",
              "  <thead>\n",
              "    <tr style=\"text-align: right;\">\n",
              "      <th></th>\n",
              "      <th>root</th>\n",
              "      <th>inflection</th>\n",
              "    </tr>\n",
              "    <tr>\n",
              "      <th>tag</th>\n",
              "      <th></th>\n",
              "      <th></th>\n",
              "    </tr>\n",
              "  </thead>\n",
              "  <tbody>\n",
              "    <tr>\n",
              "      <th>V;3;SG;PRS</th>\n",
              "      <td>2025</td>\n",
              "      <td>2025</td>\n",
              "    </tr>\n",
              "    <tr>\n",
              "      <th>V;NFIN</th>\n",
              "      <td>2008</td>\n",
              "      <td>2008</td>\n",
              "    </tr>\n",
              "    <tr>\n",
              "      <th>V;PST</th>\n",
              "      <td>2016</td>\n",
              "      <td>2016</td>\n",
              "    </tr>\n",
              "    <tr>\n",
              "      <th>V;V.PTCP;PRS</th>\n",
              "      <td>1959</td>\n",
              "      <td>1959</td>\n",
              "    </tr>\n",
              "    <tr>\n",
              "      <th>V;V.PTCP;PST</th>\n",
              "      <td>1992</td>\n",
              "      <td>1992</td>\n",
              "    </tr>\n",
              "  </tbody>\n",
              "</table>\n",
              "</div>"
            ],
            "text/plain": [
              "              root  inflection\n",
              "tag                           \n",
              "V;3;SG;PRS    2025        2025\n",
              "V;NFIN        2008        2008\n",
              "V;PST         2016        2016\n",
              "V;V.PTCP;PRS  1959        1959\n",
              "V;V.PTCP;PST  1992        1992"
            ]
          },
          "metadata": {},
          "execution_count": 58
        }
      ]
    },
    {
      "cell_type": "code",
      "metadata": {
        "colab": {
          "base_uri": "https://localhost:8080/",
          "height": 235
        },
        "id": "k2_DGCAp2RlF",
        "outputId": "d3e7a4e3-0f99-41a6-e6fc-adbd9db811fc"
      },
      "source": [
        "df_test.groupby(\"tag\").count()"
      ],
      "execution_count": null,
      "outputs": [
        {
          "output_type": "execute_result",
          "data": {
            "text/html": [
              "<div>\n",
              "<style scoped>\n",
              "    .dataframe tbody tr th:only-of-type {\n",
              "        vertical-align: middle;\n",
              "    }\n",
              "\n",
              "    .dataframe tbody tr th {\n",
              "        vertical-align: top;\n",
              "    }\n",
              "\n",
              "    .dataframe thead th {\n",
              "        text-align: right;\n",
              "    }\n",
              "</style>\n",
              "<table border=\"1\" class=\"dataframe\">\n",
              "  <thead>\n",
              "    <tr style=\"text-align: right;\">\n",
              "      <th></th>\n",
              "      <th>root</th>\n",
              "      <th>inflection</th>\n",
              "    </tr>\n",
              "    <tr>\n",
              "      <th>tag</th>\n",
              "      <th></th>\n",
              "      <th></th>\n",
              "    </tr>\n",
              "  </thead>\n",
              "  <tbody>\n",
              "    <tr>\n",
              "      <th>V;3;SG;PRS</th>\n",
              "      <td>210</td>\n",
              "      <td>210</td>\n",
              "    </tr>\n",
              "    <tr>\n",
              "      <th>V;NFIN</th>\n",
              "      <td>175</td>\n",
              "      <td>175</td>\n",
              "    </tr>\n",
              "    <tr>\n",
              "      <th>V;PST</th>\n",
              "      <td>222</td>\n",
              "      <td>222</td>\n",
              "    </tr>\n",
              "    <tr>\n",
              "      <th>V;V.PTCP;PRS</th>\n",
              "      <td>202</td>\n",
              "      <td>202</td>\n",
              "    </tr>\n",
              "    <tr>\n",
              "      <th>V;V.PTCP;PST</th>\n",
              "      <td>191</td>\n",
              "      <td>191</td>\n",
              "    </tr>\n",
              "  </tbody>\n",
              "</table>\n",
              "</div>"
            ],
            "text/plain": [
              "              root  inflection\n",
              "tag                           \n",
              "V;3;SG;PRS     210         210\n",
              "V;NFIN         175         175\n",
              "V;PST          222         222\n",
              "V;V.PTCP;PRS   202         202\n",
              "V;V.PTCP;PST   191         191"
            ]
          },
          "metadata": {},
          "execution_count": 61
        }
      ]
    },
    {
      "cell_type": "code",
      "metadata": {
        "id": "9Fx5sUuIKU0_"
      },
      "source": [
        "def label_race (row):\n",
        "  if row['tag'] == 'V;PST' :\n",
        "    if row['inflection'] == row['root'] + 'ed':\n",
        "      return 'Regular'\n",
        "    else:\n",
        "      return 'Irregular' \n",
        "  if row['tag'] == 'V;NFIN':\n",
        "      return 'Regular'\n",
        "  if row['tag'] == 'V;3;SG;PRS' :\n",
        "    if row['inflection'] == row['root'] + 's':\n",
        "      return 'Regular'\n",
        "    else: \n",
        "      return 'Irregular'\n",
        "  if row['tag'] == 'V;V.PTCP;PST':\n",
        "    if row['inflection'] == row['root'] + 'ed':\n",
        "      return 'Regular'\n",
        "    else:\n",
        "      return 'Irregular'\n",
        "  if row['tag']  == \"V;V.PTCP;PRS\":\n",
        "    if row['inflection'] == row['root'] + 'ing':\n",
        "      return 'Regular'\n",
        "    else:\n",
        "      return 'Irregular'\n",
        "df['reg'] = df.apply (lambda row: label_race(row), axis=1)\n",
        "df_test['reg'] = df_test.apply(lambda row: label_race(row), axis=1)\n"
      ],
      "execution_count": null,
      "outputs": []
    },
    {
      "cell_type": "code",
      "metadata": {
        "colab": {
          "base_uri": "https://localhost:8080/",
          "height": 235
        },
        "id": "55B6aWHMFyr4",
        "outputId": "9eae03eb-544f-4c68-e358-c7406100f57d"
      },
      "source": [
        "dfu = df.groupby(['tag']).reg.value_counts().unstack()\n",
        "dfu"
      ],
      "execution_count": null,
      "outputs": [
        {
          "output_type": "execute_result",
          "data": {
            "text/html": [
              "<div>\n",
              "<style scoped>\n",
              "    .dataframe tbody tr th:only-of-type {\n",
              "        vertical-align: middle;\n",
              "    }\n",
              "\n",
              "    .dataframe tbody tr th {\n",
              "        vertical-align: top;\n",
              "    }\n",
              "\n",
              "    .dataframe thead th {\n",
              "        text-align: right;\n",
              "    }\n",
              "</style>\n",
              "<table border=\"1\" class=\"dataframe\">\n",
              "  <thead>\n",
              "    <tr style=\"text-align: right;\">\n",
              "      <th>reg</th>\n",
              "      <th>Irregular</th>\n",
              "      <th>Regular</th>\n",
              "    </tr>\n",
              "    <tr>\n",
              "      <th>tag</th>\n",
              "      <th></th>\n",
              "      <th></th>\n",
              "    </tr>\n",
              "  </thead>\n",
              "  <tbody>\n",
              "    <tr>\n",
              "      <th>V;3;SG;PRS</th>\n",
              "      <td>183.0</td>\n",
              "      <td>1842.0</td>\n",
              "    </tr>\n",
              "    <tr>\n",
              "      <th>V;NFIN</th>\n",
              "      <td>NaN</td>\n",
              "      <td>2008.0</td>\n",
              "    </tr>\n",
              "    <tr>\n",
              "      <th>V;PST</th>\n",
              "      <td>1199.0</td>\n",
              "      <td>817.0</td>\n",
              "    </tr>\n",
              "    <tr>\n",
              "      <th>V;V.PTCP;PRS</th>\n",
              "      <td>1010.0</td>\n",
              "      <td>949.0</td>\n",
              "    </tr>\n",
              "    <tr>\n",
              "      <th>V;V.PTCP;PST</th>\n",
              "      <td>1204.0</td>\n",
              "      <td>788.0</td>\n",
              "    </tr>\n",
              "  </tbody>\n",
              "</table>\n",
              "</div>"
            ],
            "text/plain": [
              "reg           Irregular  Regular\n",
              "tag                             \n",
              "V;3;SG;PRS        183.0   1842.0\n",
              "V;NFIN              NaN   2008.0\n",
              "V;PST            1199.0    817.0\n",
              "V;V.PTCP;PRS     1010.0    949.0\n",
              "V;V.PTCP;PST     1204.0    788.0"
            ]
          },
          "metadata": {},
          "execution_count": 88
        }
      ]
    },
    {
      "cell_type": "code",
      "metadata": {
        "colab": {
          "base_uri": "https://localhost:8080/",
          "height": 546
        },
        "id": "NCKBh8yxOeVd",
        "outputId": "faf778c8-918c-446f-a42c-d94c85fc1f1c"
      },
      "source": [
        "ax = dfu.plot(kind='bar', figsize=(14, 10), xlabel='Inflection Type', ylabel='Count', rot=0)\n",
        "ax.legend(title='Regularity', bbox_to_anchor=(1, 1), loc='upper left')"
      ],
      "execution_count": null,
      "outputs": [
        {
          "output_type": "execute_result",
          "data": {
            "text/plain": [
              "<matplotlib.legend.Legend at 0x7ff459204650>"
            ]
          },
          "metadata": {},
          "execution_count": 89
        },
        {
          "output_type": "display_data",
          "data": {
            "image/png": "[encoded data removed]",
            "text/plain": [
              "<Figure size 1008x720 with 1 Axes>"
            ]
          },
          "metadata": {}
        }
      ]
    },
    {
      "cell_type": "code",
      "metadata": {
        "colab": {
          "base_uri": "https://localhost:8080/",
          "height": 235
        },
        "id": "f5SuYN3pO-Na",
        "outputId": "2c372ae0-4a97-47e2-ff32-018cf5160db7"
      },
      "source": [
        "dfu_test = df_test.groupby(['tag']).reg.value_counts().unstack()\n",
        "dfu_test"
      ],
      "execution_count": null,
      "outputs": [
        {
          "output_type": "execute_result",
          "data": {
            "text/html": [
              "<div>\n",
              "<style scoped>\n",
              "    .dataframe tbody tr th:only-of-type {\n",
              "        vertical-align: middle;\n",
              "    }\n",
              "\n",
              "    .dataframe tbody tr th {\n",
              "        vertical-align: top;\n",
              "    }\n",
              "\n",
              "    .dataframe thead th {\n",
              "        text-align: right;\n",
              "    }\n",
              "</style>\n",
              "<table border=\"1\" class=\"dataframe\">\n",
              "  <thead>\n",
              "    <tr style=\"text-align: right;\">\n",
              "      <th>reg</th>\n",
              "      <th>Irregular</th>\n",
              "      <th>Regular</th>\n",
              "    </tr>\n",
              "    <tr>\n",
              "      <th>tag</th>\n",
              "      <th></th>\n",
              "      <th></th>\n",
              "    </tr>\n",
              "  </thead>\n",
              "  <tbody>\n",
              "    <tr>\n",
              "      <th>V;3;SG;PRS</th>\n",
              "      <td>25.0</td>\n",
              "      <td>185.0</td>\n",
              "    </tr>\n",
              "    <tr>\n",
              "      <th>V;NFIN</th>\n",
              "      <td>NaN</td>\n",
              "      <td>175.0</td>\n",
              "    </tr>\n",
              "    <tr>\n",
              "      <th>V;PST</th>\n",
              "      <td>118.0</td>\n",
              "      <td>104.0</td>\n",
              "    </tr>\n",
              "    <tr>\n",
              "      <th>V;V.PTCP;PRS</th>\n",
              "      <td>101.0</td>\n",
              "      <td>101.0</td>\n",
              "    </tr>\n",
              "    <tr>\n",
              "      <th>V;V.PTCP;PST</th>\n",
              "      <td>109.0</td>\n",
              "      <td>82.0</td>\n",
              "    </tr>\n",
              "  </tbody>\n",
              "</table>\n",
              "</div>"
            ],
            "text/plain": [
              "reg           Irregular  Regular\n",
              "tag                             \n",
              "V;3;SG;PRS         25.0    185.0\n",
              "V;NFIN              NaN    175.0\n",
              "V;PST             118.0    104.0\n",
              "V;V.PTCP;PRS      101.0    101.0\n",
              "V;V.PTCP;PST      109.0     82.0"
            ]
          },
          "metadata": {},
          "execution_count": 90
        }
      ]
    },
    {
      "cell_type": "code",
      "metadata": {
        "colab": {
          "base_uri": "https://localhost:8080/",
          "height": 549
        },
        "id": "KZvn-3a2PDv4",
        "outputId": "af0b758c-daa4-4ac3-fec3-eee482abd0a4"
      },
      "source": [
        "ax = dfu_test.plot(kind='bar', figsize=(14, 10), xlabel='Inflection Type', ylabel='Count', rot=0)\n",
        "ax.legend(title='Regularity', bbox_to_anchor=(1, 1), loc='upper left')"
      ],
      "execution_count": null,
      "outputs": [
        {
          "output_type": "execute_result",
          "data": {
            "text/plain": [
              "<matplotlib.legend.Legend at 0x7ff45dcde0d0>"
            ]
          },
          "metadata": {},
          "execution_count": 91
        },
        {
          "output_type": "display_data",
          "data": {
            "image/png": "[encoded data removed]",
            "text/plain": [
              "<Figure size 1008x720 with 1 Axes>"
            ]
          },
          "metadata": {}
        }
      ]
    },
    {
      "cell_type": "code",
      "metadata": {
        "id": "HqhF-9larIP0"
      },
      "source": [
        "df_ed = df[df['tag']=='V;PST']\n",
        "df_ing = df[df['tag']=='V;V.PTCP;PRS']\n",
        "df_en = df[df['tag']=='V;V.PTCP;PST']\n",
        "df_s = df[df['tag']=='V;3;SG;PRS']\n",
        "df_ed_test = df_test[df_test['tag'] == 'V;PST']\n",
        "df_ing_test = df_test[df_test['tag'] == 'V;V.PTCP;PRS']\n",
        "df_en_test = df_test[df_test['tag']=='V;V.PTCP;PST']\n",
        "df_s_test = df_test[df_test['tag']=='V;3;SG;PRS']\n",
        "df_fin = df[df['tag'] == 'V;NFIN']\n",
        "df_fin_test = df_test[df_test['tag'] == 'V;NFIN']"
      ],
      "execution_count": null,
      "outputs": []
    },
    {
      "cell_type": "code",
      "metadata": {
        "id": "oYdeUhJJ73ip"
      },
      "source": [
        "df_ing.to_csv('Progressive_train_data.csv')\n",
        "!cp Progressive_train_data.csv '/content/drive/My Drive/Dissertation/Experiment 1/Input_csv'\n",
        "df_en.to_csv('Past_Participle_train_data.csv')\n",
        "!cp Past_Participle_train_data.csv '/content/drive/My Drive/Dissertation/Experiment 1/Input_csv'\n",
        "df_s.to_csv('3sg_train_data.csv')\n",
        "!cp '3sg_train_data.csv' '/content/drive/My Drive/Dissertation/Experiment 1/Input_csv'\n",
        "df_ed.to_csv('Past_Tense_train_data.csv')\n",
        "!cp Past_Tense_train_data.csv '/content/drive/My Drive/Dissertation/Experiment 1/Input_csv'"
      ],
      "execution_count": null,
      "outputs": []
    },
    {
      "cell_type": "code",
      "metadata": {
        "id": "BD33KOJWuXtJ"
      },
      "source": [
        "df_ing_test.to_csv('Progressive_test_data.csv')\n",
        "!cp Progressive_test_data.csv '/content/drive/My Drive/Dissertation/Experiment 1/Input_csv'\n",
        "df_en_test.to_csv('Past_Participle_test_data.csv')\n",
        "!cp Past_Participle_test_data.csv '/content/drive/My Drive/Dissertation/Experiment 1/Input_csv'\n",
        "df_s_test.to_csv('3sg_test_data.csv')\n",
        "!cp '3sg_test_data.csv' '/content/drive/My Drive/Dissertation/Experiment 1/Input_csv'\n",
        "df_ed_test.to_csv('Past_Tense_test_data.csv')\n",
        "!cp Past_Tense_test_data.csv '/content/drive/My Drive/Dissertation/Experiment 1/Input_csv'"
      ],
      "execution_count": null,
      "outputs": []
    },
    {
      "cell_type": "markdown",
      "metadata": {
        "id": "nWFdkwVbWGiP"
      },
      "source": [
        "#Vectorization and Preparing All Data"
      ]
    },
    {
      "cell_type": "code",
      "metadata": {
        "id": "8ElPH8x1Rdb6"
      },
      "source": [
        "df['tag'] = df['tag'].astype('category')\n",
        "df['tag_cat'] = df['tag'].cat.codes\n",
        "df_test['tag'] = df_test['tag'].astype('category')\n",
        "df_test['tag_cat'] = df_test['tag'].cat.codes"
      ],
      "execution_count": null,
      "outputs": []
    },
    {
      "cell_type": "code",
      "metadata": {
        "colab": {
          "base_uri": "https://localhost:8080/",
          "height": 204
        },
        "id": "Z9Pw6Ijc31ua",
        "outputId": "044669a6-01f0-4629-f55d-9a0eb2adfa57"
      },
      "source": [
        "df.tail()"
      ],
      "execution_count": null,
      "outputs": [
        {
          "output_type": "execute_result",
          "data": {
            "text/html": [
              "<div>\n",
              "<style scoped>\n",
              "    .dataframe tbody tr th:only-of-type {\n",
              "        vertical-align: middle;\n",
              "    }\n",
              "\n",
              "    .dataframe tbody tr th {\n",
              "        vertical-align: top;\n",
              "    }\n",
              "\n",
              "    .dataframe thead th {\n",
              "        text-align: right;\n",
              "    }\n",
              "</style>\n",
              "<table border=\"1\" class=\"dataframe\">\n",
              "  <thead>\n",
              "    <tr style=\"text-align: right;\">\n",
              "      <th></th>\n",
              "      <th>root</th>\n",
              "      <th>inflection</th>\n",
              "      <th>tag</th>\n",
              "      <th>reg</th>\n",
              "      <th>tag_cat</th>\n",
              "      <th>input_tag</th>\n",
              "    </tr>\n",
              "  </thead>\n",
              "  <tbody>\n",
              "    <tr>\n",
              "      <th>9995</th>\n",
              "      <td>disordain</td>\n",
              "      <td>disordain</td>\n",
              "      <td>V;NFIN</td>\n",
              "      <td>Regular</td>\n",
              "      <td>1</td>\n",
              "      <td>disordain1</td>\n",
              "    </tr>\n",
              "    <tr>\n",
              "      <th>9996</th>\n",
              "      <td>overintellectualise</td>\n",
              "      <td>overintellectualising</td>\n",
              "      <td>V;V.PTCP;PRS</td>\n",
              "      <td>Irregular</td>\n",
              "      <td>3</td>\n",
              "      <td>overintellectualise3</td>\n",
              "    </tr>\n",
              "    <tr>\n",
              "      <th>9997</th>\n",
              "      <td>warchalk</td>\n",
              "      <td>warchalking</td>\n",
              "      <td>V;V.PTCP;PRS</td>\n",
              "      <td>Regular</td>\n",
              "      <td>3</td>\n",
              "      <td>warchalk3</td>\n",
              "    </tr>\n",
              "    <tr>\n",
              "      <th>9998</th>\n",
              "      <td>oblique</td>\n",
              "      <td>obliqued</td>\n",
              "      <td>V;V.PTCP;PST</td>\n",
              "      <td>Irregular</td>\n",
              "      <td>4</td>\n",
              "      <td>oblique4</td>\n",
              "    </tr>\n",
              "    <tr>\n",
              "      <th>9999</th>\n",
              "      <td>lawe</td>\n",
              "      <td>lawes</td>\n",
              "      <td>V;3;SG;PRS</td>\n",
              "      <td>Regular</td>\n",
              "      <td>0</td>\n",
              "      <td>lawe0</td>\n",
              "    </tr>\n",
              "  </tbody>\n",
              "</table>\n",
              "</div>"
            ],
            "text/plain": [
              "                     root             inflection  ... tag_cat             input_tag\n",
              "9995            disordain              disordain  ...       1            disordain1\n",
              "9996  overintellectualise  overintellectualising  ...       3  overintellectualise3\n",
              "9997             warchalk            warchalking  ...       3             warchalk3\n",
              "9998              oblique               obliqued  ...       4              oblique4\n",
              "9999                 lawe                  lawes  ...       0                 lawe0\n",
              "\n",
              "[5 rows x 6 columns]"
            ]
          },
          "metadata": {},
          "execution_count": 94
        }
      ]
    },
    {
      "cell_type": "code",
      "metadata": {
        "id": "SGGc2UJNRdXQ"
      },
      "source": [
        "def input_tag(row):\n",
        "  it = row['root'] + str(row['tag_cat'])\n",
        "  return it\n",
        "df['input_tag'] = df.apply (lambda row: input_tag(row), axis=1)\n",
        "df_test['input_tag'] = df_test.apply (lambda row: input_tag(row),axis=1)"
      ],
      "execution_count": null,
      "outputs": []
    },
    {
      "cell_type": "code",
      "metadata": {
        "id": "_6d-cH07V5SL"
      },
      "source": [
        "root = df['input_tag'].values\n",
        "inf = df['inflection'].values\n",
        "inf = ['<' + i + '>' for i in inf]\n",
        "root_test = df_test['input_tag'].values\n",
        "inf_test = df_test['inflection'].values\n",
        "inf_test = ['<' + i + '>' for i in inf_test]"
      ],
      "execution_count": null,
      "outputs": []
    },
    {
      "cell_type": "code",
      "metadata": {
        "id": "ULOdGdC1WTdU"
      },
      "source": [
        "from keras_preprocessing.text import Tokenizer\n",
        "from keras.preprocessing.sequence import pad_sequences\n",
        "tk = Tokenizer(num_words = None, char_level = True,oov_token = 'UNK')\n",
        "tk.fit_on_texts(inf)\n",
        "alphabet=\"abcdefghijklmnopqrstuvwxyz0123456789-,;.!?:'\\\"/\\\\|_@#$%^&*~`+-=<>()[]{}\"\n",
        "char_dict = {}\n",
        "for i, char in enumerate(alphabet):\n",
        "    char_dict[char] = i + 1"
      ],
      "execution_count": null,
      "outputs": []
    },
    {
      "cell_type": "code",
      "metadata": {
        "colab": {
          "base_uri": "https://localhost:8080/"
        },
        "id": "13dFnNpJWaHR",
        "outputId": "6ad3888d-0356-4859-f1b2-3f49f7587b88"
      },
      "source": [
        "tk.word_index = char_dict\n",
        "tk.word_index[tk.oov_token]=max(char_dict.values()) + 1\n",
        "root_seq = tk.texts_to_sequences(root)\n",
        "inf_seq = tk.texts_to_sequences(inf)\n",
        "print(root[0], inf[0])\n",
        "print(root_seq[0], inf_seq[0])"
      ],
      "execution_count": null,
      "outputs": [
        {
          "output_type": "stream",
          "name": "stdout",
          "text": [
            "malinvest1 <malinvest>\n",
            "[13, 1, 12, 9, 14, 22, 5, 19, 20, 28] [62, 13, 1, 12, 9, 14, 22, 5, 19, 20, 63]\n"
          ]
        }
      ]
    },
    {
      "cell_type": "code",
      "metadata": {
        "colab": {
          "base_uri": "https://localhost:8080/"
        },
        "id": "Rsl6t4bqWcrR",
        "outputId": "b7a4e532-9240-49a1-ba8c-f5e291d68d5e"
      },
      "source": [
        "root_seq_test = tk.texts_to_sequences(root_test)\n",
        "inf_seq_test = tk.texts_to_sequences(inf_test)\n",
        "print(root_test[0], inf_test[0])\n",
        "print(root_seq_test[0], inf_seq_test[0])"
      ],
      "execution_count": null,
      "outputs": [
        {
          "output_type": "stream",
          "name": "stdout",
          "text": [
            "enwind2 <enwound>\n",
            "[5, 14, 23, 9, 14, 4, 29] [62, 5, 14, 23, 15, 21, 14, 4, 63]\n"
          ]
        }
      ]
    },
    {
      "cell_type": "code",
      "metadata": {
        "colab": {
          "base_uri": "https://localhost:8080/"
        },
        "id": "mGGrazgEWia3",
        "outputId": "4c4b4296-9ec5-4eab-b57d-fd51ac165e8e"
      },
      "source": [
        "print('Max length root:', max([len(i) for i in root_seq]))\n",
        "print('Max length inflection:', max([len(i) for i in inf_seq]))"
      ],
      "execution_count": null,
      "outputs": [
        {
          "output_type": "stream",
          "name": "stdout",
          "text": [
            "Max length root: 20\n",
            "Max length inflection: 23\n"
          ]
        }
      ]
    },
    {
      "cell_type": "code",
      "metadata": {
        "colab": {
          "base_uri": "https://localhost:8080/"
        },
        "id": "IYitLxzyWm4E",
        "outputId": "b4f29b6c-3768-4bb5-b6e5-feb0ad2f8bcc"
      },
      "source": [
        "input_root = pad_sequences(root_seq, maxlen = 25, padding = 'post')\n",
        "output_inf = pad_sequences(inf_seq, maxlen = 26, padding = 'post')\n",
        "train_input_root, val_input_root, train_output_inf, val_output_inf = train_test_split(input_root, output_inf, test_size = 0.15, random_state = 42)\n",
        "print('Train Input shape:', train_input_root.shape, 'Train Output shape:', train_output_inf.shape)\n",
        "print('Val Input shape:', val_input_root.shape, 'Val Output shape:', val_output_inf.shape)\n"
      ],
      "execution_count": null,
      "outputs": [
        {
          "output_type": "stream",
          "name": "stdout",
          "text": [
            "Train Input shape: (8500, 25) Train Output shape: (8500, 26)\n",
            "Val Input shape: (1500, 25) Val Output shape: (1500, 26)\n"
          ]
        }
      ]
    },
    {
      "cell_type": "code",
      "metadata": {
        "colab": {
          "base_uri": "https://localhost:8080/",
          "height": 235
        },
        "id": "-PtmBFt9RTBi",
        "outputId": "74ea3fb7-ed1a-47f1-f857-065840229801"
      },
      "source": [
        "dfu_train.fillna(0)"
      ],
      "execution_count": null,
      "outputs": [
        {
          "output_type": "execute_result",
          "data": {
            "text/html": [
              "<div>\n",
              "<style scoped>\n",
              "    .dataframe tbody tr th:only-of-type {\n",
              "        vertical-align: middle;\n",
              "    }\n",
              "\n",
              "    .dataframe tbody tr th {\n",
              "        vertical-align: top;\n",
              "    }\n",
              "\n",
              "    .dataframe thead th {\n",
              "        text-align: right;\n",
              "    }\n",
              "</style>\n",
              "<table border=\"1\" class=\"dataframe\">\n",
              "  <thead>\n",
              "    <tr style=\"text-align: right;\">\n",
              "      <th>reg</th>\n",
              "      <th>Irregular</th>\n",
              "      <th>Regular</th>\n",
              "    </tr>\n",
              "    <tr>\n",
              "      <th>tag</th>\n",
              "      <th></th>\n",
              "      <th></th>\n",
              "    </tr>\n",
              "  </thead>\n",
              "  <tbody>\n",
              "    <tr>\n",
              "      <th>V;3;SG;PRS</th>\n",
              "      <td>151.0</td>\n",
              "      <td>1564.0</td>\n",
              "    </tr>\n",
              "    <tr>\n",
              "      <th>V;NFIN</th>\n",
              "      <td>0.0</td>\n",
              "      <td>1716.0</td>\n",
              "    </tr>\n",
              "    <tr>\n",
              "      <th>V;PST</th>\n",
              "      <td>1002.0</td>\n",
              "      <td>693.0</td>\n",
              "    </tr>\n",
              "    <tr>\n",
              "      <th>V;V.PTCP;PRS</th>\n",
              "      <td>852.0</td>\n",
              "      <td>828.0</td>\n",
              "    </tr>\n",
              "    <tr>\n",
              "      <th>V;V.PTCP;PST</th>\n",
              "      <td>1023.0</td>\n",
              "      <td>671.0</td>\n",
              "    </tr>\n",
              "  </tbody>\n",
              "</table>\n",
              "</div>"
            ],
            "text/plain": [
              "reg           Irregular  Regular\n",
              "tag                             \n",
              "V;3;SG;PRS        151.0   1564.0\n",
              "V;NFIN              0.0   1716.0\n",
              "V;PST            1002.0    693.0\n",
              "V;V.PTCP;PRS      852.0    828.0\n",
              "V;V.PTCP;PST     1023.0    671.0"
            ]
          },
          "metadata": {},
          "execution_count": 142
        }
      ]
    },
    {
      "cell_type": "code",
      "metadata": {
        "id": "IB6w8boqNccZ"
      },
      "source": [
        "train_r, val_r = train_test_split(root, test_size = 0.15, random_state = 42)\n",
        "df_train = df[df['input_tag'].isin(train_r)]\n",
        "df_val =df[df['input_tag'].isin(val_r)]\n",
        "dfu_train = df_train.groupby(['tag']).reg.value_counts().unstack()\n",
        "dfu_train = dfu_train.fillna(0)\n",
        "def train_per(tag):\n",
        "  irr = dfu_train['Irregular'][tag]\n",
        "  reg = dfu_train['Regular'][tag]\n",
        "  total = irr + reg\n",
        "  irr_per = irr/total\n",
        "  reg_per = reg/total\n",
        "  return [tag, reg, irr, \"{:.2%}\".format(reg_per), \"{:.2%}\".format(irr_per)]\n",
        "train_per_list = [train_per('V;PST'), train_per('V;V.PTCP;PST'), train_per('V;V.PTCP;PRS'), train_per('V;NFIN'), train_per('V;3;SG;PRS')]\n",
        "df_train_per = pd.DataFrame(train_per_list, columns = ['Type', 'Train Regular', 'Train Irregular', 'Train Regular%', 'Train Irregular%'])"
      ],
      "execution_count": null,
      "outputs": []
    },
    {
      "cell_type": "code",
      "metadata": {
        "colab": {
          "base_uri": "https://localhost:8080/",
          "height": 204
        },
        "id": "Fk_gfxYvPfuc",
        "outputId": "84a45b17-f5a1-41aa-8820-5eb05b847dc9"
      },
      "source": [
        "df_train_per"
      ],
      "execution_count": null,
      "outputs": [
        {
          "output_type": "execute_result",
          "data": {
            "text/html": [
              "<div>\n",
              "<style scoped>\n",
              "    .dataframe tbody tr th:only-of-type {\n",
              "        vertical-align: middle;\n",
              "    }\n",
              "\n",
              "    .dataframe tbody tr th {\n",
              "        vertical-align: top;\n",
              "    }\n",
              "\n",
              "    .dataframe thead th {\n",
              "        text-align: right;\n",
              "    }\n",
              "</style>\n",
              "<table border=\"1\" class=\"dataframe\">\n",
              "  <thead>\n",
              "    <tr style=\"text-align: right;\">\n",
              "      <th></th>\n",
              "      <th>Type</th>\n",
              "      <th>Train Regular</th>\n",
              "      <th>Train Irregular</th>\n",
              "      <th>Train Regular%</th>\n",
              "      <th>Train Irregular%</th>\n",
              "    </tr>\n",
              "  </thead>\n",
              "  <tbody>\n",
              "    <tr>\n",
              "      <th>0</th>\n",
              "      <td>V;PST</td>\n",
              "      <td>693.0</td>\n",
              "      <td>1002.0</td>\n",
              "      <td>40.88%</td>\n",
              "      <td>59.12%</td>\n",
              "    </tr>\n",
              "    <tr>\n",
              "      <th>1</th>\n",
              "      <td>V;V.PTCP;PST</td>\n",
              "      <td>671.0</td>\n",
              "      <td>1023.0</td>\n",
              "      <td>39.61%</td>\n",
              "      <td>60.39%</td>\n",
              "    </tr>\n",
              "    <tr>\n",
              "      <th>2</th>\n",
              "      <td>V;V.PTCP;PRS</td>\n",
              "      <td>828.0</td>\n",
              "      <td>852.0</td>\n",
              "      <td>49.29%</td>\n",
              "      <td>50.71%</td>\n",
              "    </tr>\n",
              "    <tr>\n",
              "      <th>3</th>\n",
              "      <td>V;NFIN</td>\n",
              "      <td>1716.0</td>\n",
              "      <td>0.0</td>\n",
              "      <td>100.00%</td>\n",
              "      <td>0.00%</td>\n",
              "    </tr>\n",
              "    <tr>\n",
              "      <th>4</th>\n",
              "      <td>V;3;SG;PRS</td>\n",
              "      <td>1564.0</td>\n",
              "      <td>151.0</td>\n",
              "      <td>91.20%</td>\n",
              "      <td>8.80%</td>\n",
              "    </tr>\n",
              "  </tbody>\n",
              "</table>\n",
              "</div>"
            ],
            "text/plain": [
              "           Type  Train Regular  Train Irregular Train Regular% Train Irregular%\n",
              "0         V;PST          693.0           1002.0         40.88%           59.12%\n",
              "1  V;V.PTCP;PST          671.0           1023.0         39.61%           60.39%\n",
              "2  V;V.PTCP;PRS          828.0            852.0         49.29%           50.71%\n",
              "3        V;NFIN         1716.0              0.0        100.00%            0.00%\n",
              "4    V;3;SG;PRS         1564.0            151.0         91.20%            8.80%"
            ]
          },
          "metadata": {},
          "execution_count": 146
        }
      ]
    },
    {
      "cell_type": "code",
      "metadata": {
        "colab": {
          "base_uri": "https://localhost:8080/"
        },
        "id": "E5rdnZEfWvKU",
        "outputId": "57e4f7ef-9c80-403f-b2bf-8778e969e771"
      },
      "source": [
        "input_root_test = pad_sequences(root_seq_test, maxlen = 20, padding = 'post')\n",
        "output_inf_test = pad_sequences(inf_seq_test, maxlen = 21, padding = 'post')\n",
        "print('Input shape:', input_root_test.shape, 'Output shape:', output_inf_test.shape)"
      ],
      "execution_count": null,
      "outputs": [
        {
          "output_type": "stream",
          "name": "stdout",
          "text": [
            "Input shape: (1000, 20) Output shape: (1000, 21)\n"
          ]
        }
      ]
    },
    {
      "cell_type": "code",
      "metadata": {
        "id": "S6CJxbvGW6fu"
      },
      "source": [
        "batch_size = 32\n",
        "def format_dataset(root, inf):\n",
        "  return ({\"encoder_inputs\": root, \"decoder_inputs\": inf[:,:-1]}, inf[:, 1:])\n",
        "def make_dataset(root, inf):\n",
        "  dataset = tf.data.Dataset.from_tensor_slices((root, inf))\n",
        "  dataset = dataset.batch(batch_size)\n",
        "  dataset = dataset.map(format_dataset)\n",
        "  return dataset.prefetch(16).cache()"
      ],
      "execution_count": null,
      "outputs": []
    },
    {
      "cell_type": "code",
      "metadata": {
        "colab": {
          "base_uri": "https://localhost:8080/"
        },
        "id": "3K1h2w_6W-3a",
        "outputId": "5f4b0203-b426-4e22-debe-27a3342a3a8d"
      },
      "source": [
        "train_ds = make_dataset(train_input_root, train_output_inf)\n",
        "for inputs, targets in train_ds.take(1):\n",
        "  print(\"train inputs encoder, decoder shape:\", inputs[\"encoder_inputs\"].shape, inputs[\"decoder_inputs\"].shape)\n",
        "  print(\"train targets.shape:\", targets.shape) "
      ],
      "execution_count": null,
      "outputs": [
        {
          "output_type": "stream",
          "name": "stdout",
          "text": [
            "train inputs encoder, decoder shape: (32, 25) (32, 25)\n",
            "train targets.shape: (32, 25)\n"
          ]
        }
      ]
    },
    {
      "cell_type": "code",
      "metadata": {
        "colab": {
          "base_uri": "https://localhost:8080/"
        },
        "id": "BIw7HPutXCtk",
        "outputId": "9a978a77-5a56-485e-95ef-79321c202170"
      },
      "source": [
        "val_ds = make_dataset(val_input_root, val_output_inf)\n",
        "for inputs, targets in val_ds.take(1):\n",
        "  print(\"train inputs encoder, decoder shape:\", inputs[\"encoder_inputs\"].shape, inputs[\"decoder_inputs\"].shape)\n",
        "  print(\"train targets.shape:\", targets.shape) "
      ],
      "execution_count": null,
      "outputs": [
        {
          "output_type": "stream",
          "name": "stdout",
          "text": [
            "train inputs encoder, decoder shape: (32, 25) (32, 25)\n",
            "train targets.shape: (32, 25)\n"
          ]
        }
      ]
    },
    {
      "cell_type": "code",
      "metadata": {
        "colab": {
          "base_uri": "https://localhost:8080/"
        },
        "id": "V9cuFhLbXGbj",
        "outputId": "296a3396-a1e0-4a80-bfff-36ff7669eaac"
      },
      "source": [
        "test_ds = make_dataset(input_root_test, output_inf_test)\n",
        "for inputs, targets in test_ds.take(1):\n",
        "  print(\"test inputs encoder, decoder shape:\", inputs[\"encoder_inputs\"].shape, inputs[\"decoder_inputs\"].shape)\n",
        "  print(\"test targets.shape:\", targets.shape)"
      ],
      "execution_count": null,
      "outputs": [
        {
          "output_type": "stream",
          "name": "stdout",
          "text": [
            "test inputs encoder, decoder shape: (32, 20) (32, 20)\n",
            "test targets.shape: (32, 20)\n"
          ]
        }
      ]
    },
    {
      "cell_type": "markdown",
      "metadata": {
        "id": "-SqIVrCXOTy4"
      },
      "source": [
        "#V and P only past tense\n"
      ]
    },
    {
      "cell_type": "code",
      "metadata": {
        "id": "BItUyGvbjDE3"
      },
      "source": [
        "df_ed_train = df_train[df_train['tag'] == 'V;PST']\n",
        "df_ed_val = df_val[df_val['tag']=='V;PST']"
      ],
      "execution_count": null,
      "outputs": []
    },
    {
      "cell_type": "code",
      "metadata": {
        "id": "WCjzgJdno6TV"
      },
      "source": [
        "def raw_word(train, val, test):\n",
        "  root_train = train['root'].values\n",
        "  inf_train = train['inflection'].values\n",
        "  inf_train = ['<' + i + '>' for i in inf_train]\n",
        "  root_val = val['root'].values\n",
        "  inf_val = val['inflection'].values\n",
        "  inf_val= ['<' + i + '>' for i in inf_val]\n",
        "  root_test = test['root'].values\n",
        "  inf_test = test['inflection'].values\n",
        "  inf_test = ['<' + i + '>' for i in inf_test]\n",
        "  return root_train, inf_train, root_val, inf_val, root_test, inf_test\n",
        "root_train, inf_train, root_val, inf_val, root_test, inf_test =  raw_word(df_ed_train, df_ed_val, df_ed_test)"
      ],
      "execution_count": null,
      "outputs": []
    },
    {
      "cell_type": "code",
      "metadata": {
        "colab": {
          "base_uri": "https://localhost:8080/"
        },
        "id": "GRMi0JlB5apE",
        "outputId": "6d5ef876-a06b-4407-9b77-ffdc8ed46e8c"
      },
      "source": [
        "tk.word_index = char_dict\n",
        "tk.word_index[tk.oov_token]=max(char_dict.values()) + 1\n",
        "root_seq_train = tk.texts_to_sequences(root_train)\n",
        "inf_seq_train = tk.texts_to_sequences(inf_train)\n",
        "root_seq_val = tk.texts_to_sequences(root_val)\n",
        "inf_seq_val = tk.texts_to_sequences(inf_val)\n",
        "print('train_word:', root_train[0], inf_train[0])\n",
        "print('train_seq:',root_seq_train[0], inf_seq_train[0])\n",
        "print('val_word:',root_val[0], inf_val[0])\n",
        "print('val_seq:',root_seq_val[0], inf_seq_val[0])\n",
        "print('test_word:',root_test[0], inf_test[0])\n",
        "print('test_seq:',root_seq_test[0], inf_seq_test[0])"
      ],
      "execution_count": null,
      "outputs": [
        {
          "output_type": "stream",
          "name": "stdout",
          "text": [
            "train_word: stodge <stodged>\n",
            "train_seq: [19, 20, 15, 4, 7, 5] [62, 19, 20, 15, 4, 7, 5, 4, 63]\n",
            "val_word: reprobate <reprobated>\n",
            "val_seq: [18, 5, 16, 18, 15, 2, 1, 20, 5] [62, 18, 5, 16, 18, 15, 2, 1, 20, 5, 4, 63]\n",
            "test_word: enwind <enwound>\n",
            "test_seq: [5, 14, 23, 9, 14, 4] [62, 5, 14, 23, 15, 21, 14, 4, 63]\n"
          ]
        }
      ]
    },
    {
      "cell_type": "code",
      "metadata": {
        "colab": {
          "base_uri": "https://localhost:8080/"
        },
        "id": "RkMnhoug6H1a",
        "outputId": "a5699455-cda6-418b-b8e9-f510b46cedca"
      },
      "source": [
        "print('Max length root:', max([len(i) for i in root_seq]))\n",
        "print('Max length inflection:', max([len(i) for i in inf_seq]))"
      ],
      "execution_count": null,
      "outputs": [
        {
          "output_type": "stream",
          "name": "stdout",
          "text": [
            "Max length root: 20\n",
            "Max length inflection: 21\n"
          ]
        }
      ]
    },
    {
      "cell_type": "code",
      "metadata": {
        "colab": {
          "base_uri": "https://localhost:8080/"
        },
        "id": "C__HQPo26Bs9",
        "outputId": "db4ef699-9ab5-4fe0-d2fd-3e0208d82a5d"
      },
      "source": [
        "train_input_root = pad_sequences(root_seq_train, maxlen = 20, padding = 'post')\n",
        "train_output_inf = pad_sequences(inf_seq_train, maxlen = 21, padding = 'post')\n",
        "val_input_root = pad_sequences(root_seq_val, maxlen = 20, padding = 'post')\n",
        "val_output_inf = pad_sequences(inf_seq_val, maxlen = 21, padding = 'post')\n",
        "input_root_test = pad_sequences(root_seq_test, maxlen = 20, padding = 'post')\n",
        "output_inf_test = pad_sequences(inf_seq_test, maxlen = 21, padding = 'post')\n",
        "print('Train Input shape:', train_input_root.shape, 'Train Output shape:', train_output_inf.shape)\n",
        "print('Val Input shape:', val_input_root.shape, 'Val Output shape:', val_output_inf.shape)\n",
        "print('Input shape:', input_root_test.shape, 'Output shape:', output_inf_test.shape)"
      ],
      "execution_count": null,
      "outputs": [
        {
          "output_type": "stream",
          "name": "stdout",
          "text": [
            "Train Input shape: (1695, 20) Train Output shape: (1695, 21)\n",
            "Val Input shape: (321, 20) Val Output shape: (321, 21)\n",
            "Input shape: (222, 20) Output shape: (222, 21)\n"
          ]
        }
      ]
    },
    {
      "cell_type": "code",
      "metadata": {
        "colab": {
          "base_uri": "https://localhost:8080/"
        },
        "id": "3_uYj0oRO37n",
        "outputId": "8d5d2548-3f5e-4679-8868-e88d42987a50"
      },
      "source": [
        "train_ds = make_dataset(train_input_root, train_output_inf)\n",
        "for inputs, targets in train_ds.take(1):\n",
        "  print(\"train inputs encoder, decoder shape:\", inputs[\"encoder_inputs\"].shape, inputs[\"decoder_inputs\"].shape)\n",
        "  print(\"train targets.shape:\", targets.shape) \n",
        "val_ds = make_dataset(val_input_root, val_output_inf)\n",
        "for inputs, targets in val_ds.take(1):\n",
        "  print(\"train inputs encoder, decoder shape:\", inputs[\"encoder_inputs\"].shape, inputs[\"decoder_inputs\"].shape)\n",
        "  print(\"train targets.shape:\", targets.shape) \n",
        "test_ds = make_dataset(input_root_test, output_inf_test)\n",
        "for inputs, targets in test_ds.take(1):\n",
        "  print(\"test inputs encoder, decoder shape:\", inputs[\"encoder_inputs\"].shape, inputs[\"decoder_inputs\"].shape)\n",
        "  print(\"test targets.shape:\", targets.shape)"
      ],
      "execution_count": null,
      "outputs": [
        {
          "output_type": "stream",
          "name": "stdout",
          "text": [
            "train inputs encoder, decoder shape: (32, 20) (32, 20)\n",
            "train targets.shape: (32, 20)\n",
            "train inputs encoder, decoder shape: (32, 20) (32, 20)\n",
            "train targets.shape: (32, 20)\n",
            "test inputs encoder, decoder shape: (32, 20) (32, 20)\n",
            "test targets.shape: (32, 20)\n"
          ]
        }
      ]
    },
    {
      "cell_type": "markdown",
      "metadata": {
        "id": "fOkHbAPgsZFP"
      },
      "source": [
        "#V and P only 3SG -s"
      ]
    },
    {
      "cell_type": "code",
      "metadata": {
        "id": "QabndkXxseBl"
      },
      "source": [
        "df_s_train = df_train[df_train['tag'] == 'V;3;SG;PRS']\n",
        "df_s_val = df_val[df_val['tag']=='V;3;SG;PRS']"
      ],
      "execution_count": null,
      "outputs": []
    },
    {
      "cell_type": "code",
      "metadata": {
        "colab": {
          "base_uri": "https://localhost:8080/"
        },
        "id": "_CT1eaXLsh7H",
        "outputId": "8f48367c-e92e-4397-eb69-39478807abcf"
      },
      "source": [
        "root_train, inf_train, root_val, inf_val, root_test, inf_test =  raw_word(df_s_train, df_s_val, df_s_test)\n",
        "tk.word_index = char_dict\n",
        "tk.word_index[tk.oov_token]=max(char_dict.values()) + 1\n",
        "root_seq_train = tk.texts_to_sequences(root_train)\n",
        "inf_seq_train = tk.texts_to_sequences(inf_train)\n",
        "root_seq_val = tk.texts_to_sequences(root_val)\n",
        "inf_seq_val = tk.texts_to_sequences(inf_val)\n",
        "root_seq_test = tk.texts_to_sequences(root_test)\n",
        "inf_seq_test = tk.texts_to_sequences(inf_test)\n",
        "print('train_word:', root_train[0], inf_train[0])\n",
        "print('train_seq:',root_seq_train[0], inf_seq_train[0])\n",
        "print('val_word:',root_val[0], inf_val[0])\n",
        "print('val_seq:',root_seq_val[0], inf_seq_val[0])\n",
        "print('test_word:',root_test[0], inf_test[0])\n",
        "print('test_seq:',root_seq_test[0], inf_seq_test[0])\n",
        "print('Max length root:', max([len(i) for i in root_seq]))\n",
        "print('Max length inflection:', max([len(i) for i in inf_seq]))"
      ],
      "execution_count": null,
      "outputs": [
        {
          "output_type": "stream",
          "name": "stdout",
          "text": [
            "train_word: DIY <DIYs>\n",
            "train_seq: [4, 9, 25] [62, 4, 9, 25, 19, 63]\n",
            "val_word: use <uses>\n",
            "val_seq: [21, 19, 5] [62, 21, 19, 5, 19, 63]\n",
            "test_word: foretoken <foretokens>\n",
            "test_seq: [6, 15, 18, 5, 20, 15, 11, 5, 14] [62, 6, 15, 18, 5, 20, 15, 11, 5, 14, 19, 63]\n",
            "Max length root: 20\n",
            "Max length inflection: 21\n"
          ]
        }
      ]
    },
    {
      "cell_type": "code",
      "metadata": {
        "colab": {
          "base_uri": "https://localhost:8080/"
        },
        "id": "_u2Pt9sfswt2",
        "outputId": "de2d79be-da18-4b5e-c790-097c2503c3a2"
      },
      "source": [
        "train_input_root = pad_sequences(root_seq_train, maxlen = 20, padding = 'post')\n",
        "train_output_inf = pad_sequences(inf_seq_train, maxlen = 21, padding = 'post')\n",
        "val_input_root = pad_sequences(root_seq_val, maxlen = 20, padding = 'post')\n",
        "val_output_inf = pad_sequences(inf_seq_val, maxlen = 21, padding = 'post')\n",
        "input_root_test = pad_sequences(root_seq_test, maxlen = 20, padding = 'post')\n",
        "output_inf_test = pad_sequences(inf_seq_test, maxlen = 21, padding = 'post')\n",
        "print('Train Input shape:', train_input_root.shape, 'Train Output shape:', train_output_inf.shape)\n",
        "print('Val Input shape:', val_input_root.shape, 'Val Output shape:', val_output_inf.shape)\n",
        "print('Input shape:', input_root_test.shape, 'Output shape:', output_inf_test.shape)"
      ],
      "execution_count": null,
      "outputs": [
        {
          "output_type": "stream",
          "name": "stdout",
          "text": [
            "Train Input shape: (1715, 20) Train Output shape: (1715, 21)\n",
            "Val Input shape: (310, 20) Val Output shape: (310, 21)\n",
            "Input shape: (210, 20) Output shape: (210, 21)\n"
          ]
        }
      ]
    },
    {
      "cell_type": "code",
      "metadata": {
        "colab": {
          "base_uri": "https://localhost:8080/"
        },
        "id": "LubmS2QFtAFN",
        "outputId": "a9cdbde3-2e43-4369-df78-99da7e88a923"
      },
      "source": [
        "train_ds = make_dataset(train_input_root, train_output_inf)\n",
        "for inputs, targets in train_ds.take(1):\n",
        "  print(\"train inputs encoder, decoder shape:\", inputs[\"encoder_inputs\"].shape, inputs[\"decoder_inputs\"].shape)\n",
        "  print(\"train targets.shape:\", targets.shape) \n",
        "val_ds = make_dataset(val_input_root, val_output_inf)\n",
        "for inputs, targets in val_ds.take(1):\n",
        "  print(\"train inputs encoder, decoder shape:\", inputs[\"encoder_inputs\"].shape, inputs[\"decoder_inputs\"].shape)\n",
        "  print(\"train targets.shape:\", targets.shape) \n",
        "test_ds = make_dataset(input_root_test, output_inf_test)\n",
        "for inputs, targets in test_ds.take(1):\n",
        "  print(\"test inputs encoder, decoder shape:\", inputs[\"encoder_inputs\"].shape, inputs[\"decoder_inputs\"].shape)\n",
        "  print(\"test targets.shape:\", targets.shape)"
      ],
      "execution_count": null,
      "outputs": [
        {
          "output_type": "stream",
          "name": "stdout",
          "text": [
            "train inputs encoder, decoder shape: (32, 20) (32, 20)\n",
            "train targets.shape: (32, 20)\n",
            "train inputs encoder, decoder shape: (32, 20) (32, 20)\n",
            "train targets.shape: (32, 20)\n",
            "test inputs encoder, decoder shape: (32, 20) (32, 20)\n",
            "test targets.shape: (32, 20)\n"
          ]
        }
      ]
    },
    {
      "cell_type": "markdown",
      "metadata": {
        "id": "5TdYsT1Bw3mx"
      },
      "source": [
        "#V and P only -ing"
      ]
    },
    {
      "cell_type": "code",
      "metadata": {
        "id": "W3eFvqK-w8p_"
      },
      "source": [
        "df_ing_train = df_train[df_train['tag'] == 'V;V.PTCP;PRS']\n",
        "df_ing_val = df_val[df_val['tag']=='V;V.PTCP;PRS']\n",
        "root_train, inf_train, root_val, inf_val, root_test, inf_test =  raw_word(df_ing_train, df_ing_val, df_ing_test)"
      ],
      "execution_count": null,
      "outputs": []
    },
    {
      "cell_type": "code",
      "metadata": {
        "colab": {
          "base_uri": "https://localhost:8080/"
        },
        "id": "0W24akyVxF39",
        "outputId": "b1ec4457-470e-4f90-be39-26f4cc490c26"
      },
      "source": [
        "tk.word_index = char_dict\n",
        "tk.word_index[tk.oov_token]=max(char_dict.values()) + 1\n",
        "root_seq_train = tk.texts_to_sequences(root_train)\n",
        "inf_seq_train = tk.texts_to_sequences(inf_train)\n",
        "root_seq_val = tk.texts_to_sequences(root_val)\n",
        "inf_seq_val = tk.texts_to_sequences(inf_val)\n",
        "root_seq_test = tk.texts_to_sequences(root_test)\n",
        "inf_seq_test = tk.texts_to_sequences(inf_test)\n",
        "print('train_word:', root_train[0], inf_train[0])\n",
        "print('train_seq:',root_seq_train[0], inf_seq_train[0])\n",
        "print('val_word:',root_val[0], inf_val[0])\n",
        "print('val_seq:',root_seq_val[0], inf_seq_val[0])\n",
        "print('test_word:',root_test[0], inf_test[0])\n",
        "print('test_seq:',root_seq_test[0], inf_seq_test[0])\n",
        "print('Max length root:', max([len(i) for i in root_seq]))\n",
        "print('Max length inflection:', max([len(i) for i in inf_seq]))"
      ],
      "execution_count": null,
      "outputs": [
        {
          "output_type": "stream",
          "name": "stdout",
          "text": [
            "train_word: psychoanalyse <psychoanalysing>\n",
            "train_seq: [16, 19, 25, 3, 8, 15, 1, 14, 1, 12, 25, 19, 5] [62, 16, 19, 25, 3, 8, 15, 1, 14, 1, 12, 25, 19, 9, 14, 7, 63]\n",
            "val_word: cosh <coshing>\n",
            "val_seq: [3, 15, 19, 8] [62, 3, 15, 19, 8, 9, 14, 7, 63]\n",
            "test_word: inchant <inchanting>\n",
            "test_seq: [9, 14, 3, 8, 1, 14, 20] [62, 9, 14, 3, 8, 1, 14, 20, 9, 14, 7, 63]\n",
            "Max length root: 20\n",
            "Max length inflection: 21\n"
          ]
        }
      ]
    },
    {
      "cell_type": "code",
      "metadata": {
        "colab": {
          "base_uri": "https://localhost:8080/"
        },
        "id": "Z7-mpCb3xOlj",
        "outputId": "48ed3761-fd5d-4adb-f154-fa057afeef1e"
      },
      "source": [
        "train_input_root = pad_sequences(root_seq_train, maxlen = 20, padding = 'post')\n",
        "train_output_inf = pad_sequences(inf_seq_train, maxlen = 21, padding = 'post')\n",
        "val_input_root = pad_sequences(root_seq_val, maxlen = 20, padding = 'post')\n",
        "val_output_inf = pad_sequences(inf_seq_val, maxlen = 21, padding = 'post')\n",
        "input_root_test = pad_sequences(root_seq_test, maxlen = 20, padding = 'post')\n",
        "output_inf_test = pad_sequences(inf_seq_test, maxlen = 21, padding = 'post')\n",
        "print('Train Input shape:', train_input_root.shape, 'Train Output shape:', train_output_inf.shape)\n",
        "print('Val Input shape:', val_input_root.shape, 'Val Output shape:', val_output_inf.shape)\n",
        "print('Input shape:', input_root_test.shape, 'Output shape:', output_inf_test.shape)"
      ],
      "execution_count": null,
      "outputs": [
        {
          "output_type": "stream",
          "name": "stdout",
          "text": [
            "Train Input shape: (1680, 20) Train Output shape: (1680, 21)\n",
            "Val Input shape: (279, 20) Val Output shape: (279, 21)\n",
            "Input shape: (202, 20) Output shape: (202, 21)\n"
          ]
        }
      ]
    },
    {
      "cell_type": "code",
      "metadata": {
        "colab": {
          "base_uri": "https://localhost:8080/"
        },
        "id": "V5bolDXxxUNn",
        "outputId": "454ee387-d192-45a0-aef2-ce2742862d52"
      },
      "source": [
        "train_ds = make_dataset(train_input_root, train_output_inf)\n",
        "for inputs, targets in train_ds.take(1):\n",
        "  print(\"train inputs encoder, decoder shape:\", inputs[\"encoder_inputs\"].shape, inputs[\"decoder_inputs\"].shape)\n",
        "  print(\"train targets.shape:\", targets.shape) \n",
        "val_ds = make_dataset(val_input_root, val_output_inf)\n",
        "for inputs, targets in val_ds.take(1):\n",
        "  print(\"train inputs encoder, decoder shape:\", inputs[\"encoder_inputs\"].shape, inputs[\"decoder_inputs\"].shape)\n",
        "  print(\"train targets.shape:\", targets.shape) \n",
        "test_ds = make_dataset(input_root_test, output_inf_test)\n",
        "for inputs, targets in test_ds.take(1):\n",
        "  print(\"test inputs encoder, decoder shape:\", inputs[\"encoder_inputs\"].shape, inputs[\"decoder_inputs\"].shape)\n",
        "  print(\"test targets.shape:\", targets.shape)"
      ],
      "execution_count": null,
      "outputs": [
        {
          "output_type": "stream",
          "name": "stdout",
          "text": [
            "train inputs encoder, decoder shape: (32, 20) (32, 20)\n",
            "train targets.shape: (32, 20)\n",
            "train inputs encoder, decoder shape: (32, 20) (32, 20)\n",
            "train targets.shape: (32, 20)\n",
            "test inputs encoder, decoder shape: (32, 20) (32, 20)\n",
            "test targets.shape: (32, 20)\n"
          ]
        }
      ]
    },
    {
      "cell_type": "markdown",
      "metadata": {
        "id": "CLK-Tfbw1SZv"
      },
      "source": [
        "#V and P only Past Participle -ed"
      ]
    },
    {
      "cell_type": "code",
      "metadata": {
        "id": "G2M7A3vv1VeO"
      },
      "source": [
        "df_en_train = df_train[df_train['tag'] == 'V;V.PTCP;PST']\n",
        "df_en_val = df_val[df_val['tag']=='V;V.PTCP;PST']\n",
        "root_train, inf_train, root_val, inf_val, root_test, inf_test =  raw_word(df_en_train, df_en_val, df_en_test)"
      ],
      "execution_count": null,
      "outputs": []
    },
    {
      "cell_type": "code",
      "metadata": {
        "colab": {
          "base_uri": "https://localhost:8080/"
        },
        "id": "EG9wEVmM1h3m",
        "outputId": "89aa97b4-0ff4-4ccc-d695-b22c1a49d180"
      },
      "source": [
        "tk.word_index = char_dict\n",
        "tk.word_index[tk.oov_token]=max(char_dict.values()) + 1\n",
        "root_seq_train = tk.texts_to_sequences(root_train)\n",
        "inf_seq_train = tk.texts_to_sequences(inf_train)\n",
        "root_seq_val = tk.texts_to_sequences(root_val)\n",
        "inf_seq_val = tk.texts_to_sequences(inf_val)\n",
        "root_seq_test = tk.texts_to_sequences(root_test)\n",
        "inf_seq_test = tk.texts_to_sequences(inf_test)\n",
        "print('train_word:', root_train[0], inf_train[0])\n",
        "print('train_seq:',root_seq_train[0], inf_seq_train[0])\n",
        "print('val_word:',root_val[0], inf_val[0])\n",
        "print('val_seq:',root_seq_val[0], inf_seq_val[0])\n",
        "print('test_word:',root_test[0], inf_test[0])\n",
        "print('test_seq:',root_seq_test[0], inf_seq_test[0])\n",
        "print('Max length root:', max([len(i) for i in root_seq]))\n",
        "print('Max length inflection:', max([len(i) for i in inf_seq]))"
      ],
      "execution_count": null,
      "outputs": [
        {
          "output_type": "stream",
          "name": "stdout",
          "text": [
            "train_word: foray <forayed>\n",
            "train_seq: [6, 15, 18, 1, 25] [62, 6, 15, 18, 1, 25, 5, 4, 63]\n",
            "val_word: cund <cunded>\n",
            "val_seq: [3, 21, 14, 4] [62, 3, 21, 14, 4, 5, 4, 63]\n",
            "test_word: inbend <inbent>\n",
            "test_seq: [9, 14, 2, 5, 14, 4] [62, 9, 14, 2, 5, 14, 20, 63]\n",
            "Max length root: 20\n",
            "Max length inflection: 21\n"
          ]
        }
      ]
    },
    {
      "cell_type": "code",
      "metadata": {
        "colab": {
          "base_uri": "https://localhost:8080/"
        },
        "id": "_UmpYIuE1op9",
        "outputId": "805cf871-9805-4f3a-84fb-2066511fe49d"
      },
      "source": [
        "train_input_root = pad_sequences(root_seq_train, maxlen = 20, padding = 'post')\n",
        "train_output_inf = pad_sequences(inf_seq_train, maxlen = 21, padding = 'post')\n",
        "val_input_root = pad_sequences(root_seq_val, maxlen = 20, padding = 'post')\n",
        "val_output_inf = pad_sequences(inf_seq_val, maxlen = 21, padding = 'post')\n",
        "input_root_test = pad_sequences(root_seq_test, maxlen = 20, padding = 'post')\n",
        "output_inf_test = pad_sequences(inf_seq_test, maxlen = 21, padding = 'post')\n",
        "print('Train Input shape:', train_input_root.shape, 'Train Output shape:', train_output_inf.shape)\n",
        "print('Val Input shape:', val_input_root.shape, 'Val Output shape:', val_output_inf.shape)\n",
        "print('Input shape:', input_root_test.shape, 'Output shape:', output_inf_test.shape)"
      ],
      "execution_count": null,
      "outputs": [
        {
          "output_type": "stream",
          "name": "stdout",
          "text": [
            "Train Input shape: (1694, 20) Train Output shape: (1694, 21)\n",
            "Val Input shape: (298, 20) Val Output shape: (298, 21)\n",
            "Input shape: (191, 20) Output shape: (191, 21)\n"
          ]
        }
      ]
    },
    {
      "cell_type": "code",
      "metadata": {
        "colab": {
          "base_uri": "https://localhost:8080/"
        },
        "id": "z8ad8iGj1sp1",
        "outputId": "da37df7e-3f00-4878-a8e6-cfe16ac27c66"
      },
      "source": [
        "train_ds = make_dataset(train_input_root, train_output_inf)\n",
        "for inputs, targets in train_ds.take(1):\n",
        "  print(\"train inputs encoder, decoder shape:\", inputs[\"encoder_inputs\"].shape, inputs[\"decoder_inputs\"].shape)\n",
        "  print(\"train targets.shape:\", targets.shape) \n",
        "val_ds = make_dataset(val_input_root, val_output_inf)\n",
        "for inputs, targets in val_ds.take(1):\n",
        "  print(\"train inputs encoder, decoder shape:\", inputs[\"encoder_inputs\"].shape, inputs[\"decoder_inputs\"].shape)\n",
        "  print(\"train targets.shape:\", targets.shape) \n",
        "test_ds = make_dataset(input_root_test, output_inf_test)\n",
        "for inputs, targets in test_ds.take(1):\n",
        "  print(\"test inputs encoder, decoder shape:\", inputs[\"encoder_inputs\"].shape, inputs[\"decoder_inputs\"].shape)\n",
        "  print(\"test targets.shape:\", targets.shape)"
      ],
      "execution_count": null,
      "outputs": [
        {
          "output_type": "stream",
          "name": "stdout",
          "text": [
            "train inputs encoder, decoder shape: (32, 20) (32, 20)\n",
            "train targets.shape: (32, 20)\n",
            "train inputs encoder, decoder shape: (32, 20) (32, 20)\n",
            "train targets.shape: (32, 20)\n",
            "test inputs encoder, decoder shape: (32, 20) (32, 20)\n",
            "test targets.shape: (32, 20)\n"
          ]
        }
      ]
    },
    {
      "cell_type": "markdown",
      "metadata": {
        "id": "_NUUdCmz4KCF"
      },
      "source": [
        "#V and P only INF"
      ]
    },
    {
      "cell_type": "code",
      "metadata": {
        "id": "mebcZl9d4Na6"
      },
      "source": [
        "df_fin_train = df_train[df_train['tag'] == 'V;NFIN']\n",
        "df_fin_val = df_val[df_val['tag']=='V;NFIN']\n",
        "root_train, inf_train, root_val, inf_val, root_test, inf_test =  raw_word(df_fin_train, df_fin_val, df_fin_test)"
      ],
      "execution_count": null,
      "outputs": []
    },
    {
      "cell_type": "code",
      "metadata": {
        "colab": {
          "base_uri": "https://localhost:8080/"
        },
        "id": "WLE4laSF48k1",
        "outputId": "bee3b816-efa8-4e88-c2f9-8b2374351318"
      },
      "source": [
        "tk.word_index = char_dict\n",
        "tk.word_index[tk.oov_token]=max(char_dict.values()) + 1\n",
        "root_seq_train = tk.texts_to_sequences(root_train)\n",
        "inf_seq_train = tk.texts_to_sequences(inf_train)\n",
        "root_seq_val = tk.texts_to_sequences(root_val)\n",
        "inf_seq_val = tk.texts_to_sequences(inf_val)\n",
        "root_seq_test = tk.texts_to_sequences(root_test)\n",
        "inf_seq_test = tk.texts_to_sequences(inf_test)\n",
        "print('train_word:', root_train[0], inf_train[0])\n",
        "print('train_seq:',root_seq_train[0], inf_seq_train[0])\n",
        "print('val_word:',root_val[0], inf_val[0])\n",
        "print('val_seq:',root_seq_val[0], inf_seq_val[0])\n",
        "print('test_word:',root_test[0], inf_test[0])\n",
        "print('test_seq:',root_seq_test[0], inf_seq_test[0])\n",
        "print('Max length root:', max([len(i) for i in root_seq]))\n",
        "print('Max length inflection:', max([len(i) for i in inf_seq]))"
      ],
      "execution_count": null,
      "outputs": [
        {
          "output_type": "stream",
          "name": "stdout",
          "text": [
            "train_word: engender <engender>\n",
            "train_seq: [5, 14, 7, 5, 14, 4, 5, 18] [62, 5, 14, 7, 5, 14, 4, 5, 18, 63]\n",
            "val_word: malinvest <malinvest>\n",
            "val_seq: [13, 1, 12, 9, 14, 22, 5, 19, 20] [62, 13, 1, 12, 9, 14, 22, 5, 19, 20, 63]\n",
            "test_word: behallow <behallow>\n",
            "test_seq: [2, 5, 8, 1, 12, 12, 15, 23] [62, 2, 5, 8, 1, 12, 12, 15, 23, 63]\n",
            "Max length root: 20\n",
            "Max length inflection: 21\n"
          ]
        }
      ]
    },
    {
      "cell_type": "code",
      "metadata": {
        "colab": {
          "base_uri": "https://localhost:8080/"
        },
        "id": "Mr4hHMph5A2f",
        "outputId": "f3ae22aa-6fd3-47d0-ba70-594148859887"
      },
      "source": [
        "train_input_root = pad_sequences(root_seq_train, maxlen = 20, padding = 'post')\n",
        "train_output_inf = pad_sequences(inf_seq_train, maxlen = 21, padding = 'post')\n",
        "val_input_root = pad_sequences(root_seq_val, maxlen = 20, padding = 'post')\n",
        "val_output_inf = pad_sequences(inf_seq_val, maxlen = 21, padding = 'post')\n",
        "input_root_test = pad_sequences(root_seq_test, maxlen = 20, padding = 'post')\n",
        "output_inf_test = pad_sequences(inf_seq_test, maxlen = 21, padding = 'post')\n",
        "print('Train Input shape:', train_input_root.shape, 'Train Output shape:', train_output_inf.shape)\n",
        "print('Val Input shape:', val_input_root.shape, 'Val Output shape:', val_output_inf.shape)\n",
        "print('Input shape:', input_root_test.shape, 'Output shape:', output_inf_test.shape)"
      ],
      "execution_count": null,
      "outputs": [
        {
          "output_type": "stream",
          "name": "stdout",
          "text": [
            "Train Input shape: (1716, 20) Train Output shape: (1716, 21)\n",
            "Val Input shape: (292, 20) Val Output shape: (292, 21)\n",
            "Input shape: (175, 20) Output shape: (175, 21)\n"
          ]
        }
      ]
    },
    {
      "cell_type": "code",
      "metadata": {
        "colab": {
          "base_uri": "https://localhost:8080/"
        },
        "id": "MJSx6A4G5Mju",
        "outputId": "2a2273c1-0f80-4e35-d101-47ebcf1e262a"
      },
      "source": [
        "train_ds = make_dataset(train_input_root, train_output_inf)\n",
        "for inputs, targets in train_ds.take(1):\n",
        "  print(\"train inputs encoder, decoder shape:\", inputs[\"encoder_inputs\"].shape, inputs[\"decoder_inputs\"].shape)\n",
        "  print(\"train targets.shape:\", targets.shape) \n",
        "val_ds = make_dataset(val_input_root, val_output_inf)\n",
        "for inputs, targets in val_ds.take(1):\n",
        "  print(\"train inputs encoder, decoder shape:\", inputs[\"encoder_inputs\"].shape, inputs[\"decoder_inputs\"].shape)\n",
        "  print(\"train targets.shape:\", targets.shape) \n",
        "test_ds = make_dataset(input_root_test, output_inf_test)\n",
        "for inputs, targets in test_ds.take(1):\n",
        "  print(\"test inputs encoder, decoder shape:\", inputs[\"encoder_inputs\"].shape, inputs[\"decoder_inputs\"].shape)\n",
        "  print(\"test targets.shape:\", targets.shape)"
      ],
      "execution_count": null,
      "outputs": [
        {
          "output_type": "stream",
          "name": "stdout",
          "text": [
            "train inputs encoder, decoder shape: (32, 20) (32, 20)\n",
            "train targets.shape: (32, 20)\n",
            "train inputs encoder, decoder shape: (32, 20) (32, 20)\n",
            "train targets.shape: (32, 20)\n",
            "test inputs encoder, decoder shape: (32, 20) (32, 20)\n",
            "test targets.shape: (32, 20)\n"
          ]
        }
      ]
    },
    {
      "cell_type": "markdown",
      "metadata": {
        "id": "Soh-Jev3OXgj"
      },
      "source": [
        "#Define Model"
      ]
    },
    {
      "cell_type": "code",
      "metadata": {
        "id": "goO3NKE9c-h4"
      },
      "source": [
        "class TransformerEncoder(layers.Layer):\n",
        "    def __init__(self, embed_dim, dense_dim, num_heads, **kwargs):\n",
        "        super(TransformerEncoder, self).__init__(**kwargs)\n",
        "        self.embed_dim = embed_dim\n",
        "        self.dense_dim = dense_dim\n",
        "        self.num_heads = num_heads\n",
        "        self.attention = layers.MultiHeadAttention(\n",
        "            num_heads=num_heads, key_dim=embed_dim\n",
        "        )\n",
        "        self.dense_proj = keras.Sequential(\n",
        "            [layers.Dense(dense_dim, activation=\"relu\"), layers.Dense(embed_dim),]\n",
        "        )\n",
        "        self.layernorm_1 = layers.LayerNormalization()\n",
        "        self.layernorm_2 = layers.LayerNormalization()\n",
        "        self.supports_masking = True\n",
        "\n",
        "    def call(self, inputs, mask=None):\n",
        "        if mask is not None:\n",
        "            padding_mask = tf.cast(mask[:, tf.newaxis, tf.newaxis, :], dtype=\"int32\")\n",
        "        attention_output = self.attention(\n",
        "            query=inputs, value=inputs, key=inputs, attention_mask=padding_mask\n",
        "        )\n",
        "        proj_input = self.layernorm_1(inputs + attention_output)\n",
        "        proj_output = self.dense_proj(proj_input)\n",
        "        return self.layernorm_2(proj_input + proj_output)\n",
        "\n",
        "\n",
        "class PositionalEmbedding(layers.Layer):\n",
        "    def __init__(self, sequence_length, vocab_size, embed_dim, **kwargs):\n",
        "        super(PositionalEmbedding, self).__init__(**kwargs)\n",
        "        self.token_embeddings = layers.Embedding(\n",
        "            input_dim=vocab_size, output_dim=embed_dim\n",
        "        )\n",
        "        self.position_embeddings = layers.Embedding(\n",
        "            input_dim=sequence_length, output_dim=embed_dim\n",
        "        )\n",
        "        self.sequence_length = sequence_length\n",
        "        self.vocab_size = vocab_size\n",
        "        self.embed_dim = embed_dim\n",
        "\n",
        "    def call(self, inputs):\n",
        "        length = tf.shape(inputs)[-1]\n",
        "        positions = tf.range(start=0, limit=length, delta=1)\n",
        "        embedded_tokens = self.token_embeddings(inputs)\n",
        "        embedded_positions = self.position_embeddings(positions)\n",
        "        return embedded_tokens + embedded_positions\n",
        "\n",
        "    def compute_mask(self, inputs, mask=None):\n",
        "        return tf.math.not_equal(inputs, 0)\n",
        "\n",
        "\n",
        "class TransformerDecoder(layers.Layer):\n",
        "    def __init__(self, embed_dim, latent_dim, num_heads, **kwargs):\n",
        "        super(TransformerDecoder, self).__init__(**kwargs)\n",
        "        self.embed_dim = embed_dim\n",
        "        self.latent_dim = latent_dim\n",
        "        self.num_heads = num_heads\n",
        "        self.attention_1 = layers.MultiHeadAttention(\n",
        "            num_heads=num_heads, key_dim=embed_dim\n",
        "        )\n",
        "        self.attention_2 = layers.MultiHeadAttention(\n",
        "            num_heads=num_heads, key_dim=embed_dim\n",
        "        )\n",
        "        self.dense_proj = keras.Sequential(\n",
        "            [layers.Dense(latent_dim, activation=\"relu\"), layers.Dense(embed_dim),]\n",
        "        )\n",
        "        self.layernorm_1 = layers.LayerNormalization()\n",
        "        self.layernorm_2 = layers.LayerNormalization()\n",
        "        self.layernorm_3 = layers.LayerNormalization()\n",
        "        self.supports_masking = True\n",
        "\n",
        "    def call(self, inputs, encoder_outputs, mask=None):\n",
        "        causal_mask = self.get_causal_attention_mask(inputs)\n",
        "        if mask is not None:\n",
        "            padding_mask = tf.cast(mask[:, tf.newaxis, :], dtype=\"int32\")\n",
        "            padding_mask = tf.minimum(padding_mask, causal_mask)\n",
        "\n",
        "        attention_output_1 = self.attention_1(\n",
        "            query=inputs, value=inputs, key=inputs, attention_mask=causal_mask\n",
        "        )\n",
        "        out_1 = self.layernorm_1(inputs + attention_output_1)\n",
        "\n",
        "        attention_output_2 = self.attention_2(\n",
        "            query=out_1,\n",
        "            value=encoder_outputs,\n",
        "            key=encoder_outputs,\n",
        "            attention_mask=padding_mask,\n",
        "        )\n",
        "        out_2 = self.layernorm_2(out_1 + attention_output_2)\n",
        "\n",
        "        proj_output = self.dense_proj(out_2)\n",
        "        return self.layernorm_3(out_2 + proj_output)\n",
        "\n",
        "    def get_causal_attention_mask(self, inputs):\n",
        "        input_shape = tf.shape(inputs)\n",
        "        batch_size, sequence_length = input_shape[0], input_shape[1]\n",
        "        i = tf.range(sequence_length)[:, tf.newaxis]\n",
        "        j = tf.range(sequence_length)\n",
        "        mask = tf.cast(i >= j, dtype=\"int32\")\n",
        "        mask = tf.reshape(mask, (1, input_shape[1], input_shape[1]))\n",
        "        mult = tf.concat(\n",
        "            [tf.expand_dims(batch_size, -1), tf.constant([1, 1], dtype=tf.int32)],\n",
        "            axis=0,\n",
        "        )\n",
        "        return tf.tile(mask, mult)"
      ],
      "execution_count": null,
      "outputs": []
    },
    {
      "cell_type": "code",
      "metadata": {
        "id": "o3rwSuatdhdc"
      },
      "source": [
        "embed_dim = 64\n",
        "latent_dim = 128\n",
        "num_heads = 4\n",
        "sequence_length = 25\n",
        "vocab_size = 80\n",
        "\n",
        "\n",
        "encoder_inputs = keras.Input(shape=(None,), dtype=\"int64\", name=\"encoder_inputs\")\n",
        "x = PositionalEmbedding(sequence_length, vocab_size, embed_dim)(encoder_inputs)\n",
        "encoder_outputs = TransformerEncoder(embed_dim, latent_dim, num_heads)(x)\n",
        "encoder = keras.Model(encoder_inputs, encoder_outputs)\n",
        "\n",
        "decoder_inputs = keras.Input(shape=(None,), dtype=\"int64\", name=\"decoder_inputs\")\n",
        "encoded_seq_inputs = keras.Input(shape=(None, embed_dim), name=\"decoder_state_inputs\")\n",
        "x = PositionalEmbedding(sequence_length, vocab_size, embed_dim)(decoder_inputs)\n",
        "x = TransformerDecoder(embed_dim, latent_dim, num_heads)(x, encoded_seq_inputs)\n",
        "x = layers.Dropout(0.5)(x)\n",
        "decoder_outputs = layers.Dense(vocab_size, activation=\"softmax\")(x)\n",
        "decoder = keras.Model([decoder_inputs, encoded_seq_inputs], decoder_outputs)\n",
        "\n",
        "decoder_outputs = decoder([decoder_inputs, encoder_outputs])\n",
        "transformer = keras.Model(\n",
        "    [encoder_inputs, decoder_inputs], decoder_outputs, name=\"transformer\"\n",
        ")"
      ],
      "execution_count": null,
      "outputs": []
    },
    {
      "cell_type": "code",
      "metadata": {
        "colab": {
          "base_uri": "https://localhost:8080/"
        },
        "id": "mfjGt56RoZRD",
        "outputId": "a64883dd-5c76-4002-f7d4-9e9b50d94d5e"
      },
      "source": [
        "transformer.summary()"
      ],
      "execution_count": null,
      "outputs": [
        {
          "output_type": "stream",
          "name": "stdout",
          "text": [
            "Model: \"transformer\"\n",
            "__________________________________________________________________________________________________\n",
            "Layer (type)                    Output Shape         Param #     Connected to                     \n",
            "==================================================================================================\n",
            "encoder_inputs (InputLayer)     [(None, None)]       0                                            \n",
            "__________________________________________________________________________________________________\n",
            "positional_embedding_10 (Positi (None, None, 64)     6720        encoder_inputs[0][0]             \n",
            "__________________________________________________________________________________________________\n",
            "decoder_inputs (InputLayer)     [(None, None)]       0                                            \n",
            "__________________________________________________________________________________________________\n",
            "transformer_encoder_5 (Transfor (None, None, 64)     83200       positional_embedding_10[0][0]    \n",
            "__________________________________________________________________________________________________\n",
            "model_11 (Functional)           (None, None, 80)     161616      decoder_inputs[0][0]             \n",
            "                                                                 transformer_encoder_5[0][0]      \n",
            "==================================================================================================\n",
            "Total params: 251,536\n",
            "Trainable params: 251,536\n",
            "Non-trainable params: 0\n",
            "__________________________________________________________________________________________________\n"
          ]
        }
      ]
    },
    {
      "cell_type": "markdown",
      "metadata": {
        "id": "IXRaUgozy16m"
      },
      "source": [
        "#Model 1 10 fold cross validation\n"
      ]
    },
    {
      "cell_type": "code",
      "metadata": {
        "id": "3eLHYADFG-xl"
      },
      "source": [
        "index_output = list(range(0, len(output_inf)))"
      ],
      "execution_count": null,
      "outputs": []
    },
    {
      "cell_type": "code",
      "metadata": {
        "id": "6lvvT9O7CYUD"
      },
      "source": [
        "train_pair = [(i, j) for (i, j) in zip(input_root, output_inf)]\n",
        "kfold = StratifiedKFold(n_splits = 10, shuffle= True, random_state=42)\n",
        "train_root, train_inf, test_root, test_inf = [],[],[],[]\n",
        "for train, test in kfold.split(input_root, df_ed['tag']):\n",
        "  train_root.append(input_root[train])\n",
        "  test_root.append(input_root[test])\n",
        "  train_inf.append(output_inf[train])\n",
        "  test_inf.append(output_inf[test])\n",
        "  "
      ],
      "execution_count": null,
      "outputs": []
    },
    {
      "cell_type": "code",
      "metadata": {
        "id": "srTyQPxqXbzV"
      },
      "source": [
        "train_ds_fold = []\n",
        "for root, inf in zip(train_root, train_inf):\n",
        "  train_ds = make_dataset(root, inf)\n",
        "  train_ds_fold.append(train_ds)\n",
        "test_ds_fold = []\n",
        "for root, inf in zip(test_root, test_inf):\n",
        "  test_ds = make_dataset(root, inf)\n",
        "  test_ds_fold.append(test_ds)\n"
      ],
      "execution_count": null,
      "outputs": []
    },
    {
      "cell_type": "code",
      "metadata": {
        "colab": {
          "base_uri": "https://localhost:8080/"
        },
        "id": "F78oMOeTXMNk",
        "outputId": "e62dae8a-f771-4223-d5b4-249f53d1988d"
      },
      "source": [
        "for inputs, targets in train_ds_fold[0].take(1):\n",
        "  print(\"inputs encoder, decoder shape:\", inputs[\"encoder_inputs\"].shape, inputs[\"decoder_inputs\"].shape)\n",
        "  print(\"targets.shape:\", targets.shape)"
      ],
      "execution_count": null,
      "outputs": [
        {
          "output_type": "stream",
          "name": "stdout",
          "text": [
            "inputs encoder, decoder shape: (32, 20) (32, 20)\n",
            "targets.shape: (32, 20)\n"
          ]
        }
      ]
    },
    {
      "cell_type": "code",
      "metadata": {
        "colab": {
          "base_uri": "https://localhost:8080/"
        },
        "id": "tD_kYVWWwSzQ",
        "outputId": "030fbd95-7bfc-4ba6-bed1-d7c0ab2cf73f"
      },
      "source": [
        "test_ds = make_dataset(input_root_test, output_inf_test)\n",
        "for inputs, targets in test_ds.take(1):\n",
        "  print(\"test inputs encoder, decoder shape:\", inputs[\"encoder_inputs\"].shape, inputs[\"decoder_inputs\"].shape)\n",
        "  print(\"test targets.shape:\", targets.shape)"
      ],
      "execution_count": null,
      "outputs": [
        {
          "output_type": "stream",
          "name": "stdout",
          "text": [
            "test inputs encoder, decoder shape: (30, 20) (30, 20)\n",
            "test targets.shape: (30, 20)\n"
          ]
        }
      ]
    },
    {
      "cell_type": "code",
      "metadata": {
        "colab": {
          "base_uri": "https://localhost:8080/"
        },
        "id": "vnaB6bwMeGp_",
        "outputId": "82a5f765-0c58-4c88-f173-57062850a55c"
      },
      "source": [
        "train_ds_fold[0].take(1)"
      ],
      "execution_count": null,
      "outputs": [
        {
          "output_type": "execute_result",
          "data": {
            "text/plain": [
              "<TakeDataset shapes: ({encoder_inputs: (None, 20), decoder_inputs: (None, 20)}, (None, 20)), types: ({encoder_inputs: tf.int32, decoder_inputs: tf.int32}, tf.int32)>"
            ]
          },
          "metadata": {},
          "execution_count": 33
        }
      ]
    },
    {
      "cell_type": "code",
      "metadata": {
        "id": "_vy08kb7dyKh"
      },
      "source": [
        "epochs = 20  # This should be at least 30 for convergence\n",
        "ten_fold_history = []\n",
        "for i in range(0,10):\n",
        "  transformer.compile(\n",
        "    optimizer = \"adam\", loss=\"sparse_categorical_crossentropy\", metrics=[\"accuracy\"]\n",
        ")\n",
        "  history = transformer.fit(train_ds_fold[i], epochs=epochs, validation_data=test_ds_fold[i])\n",
        "  ten_fold_history.append(history)"
      ],
      "execution_count": null,
      "outputs": []
    },
    {
      "cell_type": "code",
      "metadata": {
        "colab": {
          "base_uri": "https://localhost:8080/"
        },
        "id": "kxkJHJqjs4wb",
        "outputId": "461227e0-f6a0-43de-d4ac-77e27d8ebe01"
      },
      "source": [
        "ten_fold_history[0].history.keys()"
      ],
      "execution_count": null,
      "outputs": [
        {
          "output_type": "execute_result",
          "data": {
            "text/plain": [
              "dict_keys(['loss', 'accuracy', 'val_loss', 'val_accuracy'])"
            ]
          },
          "metadata": {},
          "execution_count": 45
        }
      ]
    },
    {
      "cell_type": "code",
      "metadata": {
        "colab": {
          "base_uri": "https://localhost:8080/",
          "height": 337
        },
        "id": "-ZSzaJ14teZ8",
        "outputId": "048f8ee2-8d91-4018-b6a0-159fb3ec22fe"
      },
      "source": [
        "plt.style.use('ggplot')\n",
        "\n",
        "def plot_history(history):\n",
        "    accuracy = history.history['accuracy']\n",
        "    val_accuracy = history.history['val_accuracy']\n",
        "    loss = history.history['loss']\n",
        "    val_loss = history.history['val_loss']\n",
        "    x = range(1, len(accuracy) + 1)\n",
        "\n",
        "    plt.figure(figsize=(12, 5))\n",
        "    plt.subplot(1, 2, 1)\n",
        "    plt.plot(x, accuracy, 'b', label='Training acc')\n",
        "    plt.plot(x, val_accuracy, 'r', label='Validation acc')\n",
        "    plt.title('Training and validation accuracy')\n",
        "    plt.legend()\n",
        "    plt.subplot(1, 2, 2)\n",
        "    plt.plot(x, loss, 'b', label='Training loss')\n",
        "    plt.plot(x, val_loss, 'r', label='Validation loss')\n",
        "    plt.title('Training and validation loss')\n",
        "    plt.legend()\n",
        "\n",
        "plot_history(ten_fold_history[0])"
      ],
      "execution_count": null,
      "outputs": [
        {
          "output_type": "display_data",
          "data": {
            "image/png": "[encoded data removed]",
            "text/plain": [
              "<Figure size 864x360 with 2 Axes>"
            ]
          },
          "metadata": {}
        }
      ]
    },
    {
      "cell_type": "code",
      "metadata": {
        "id": "G5v8Oy7nuJ6n"
      },
      "source": [
        "ten_fold_data = []\n",
        "for i in range(0,10):\n",
        "  ten_fold_acc.append([np.mean(ten_fold_history[i].history['accuracy']),\n",
        "                       np.mean(ten_fold_history[i].history['val_accuracy']),\n",
        "                       np.mean(ten_fold_history[i].history['loss']),\n",
        "                       np.mean(ten_fold_history[i].history['val_loss'])])"
      ],
      "execution_count": null,
      "outputs": []
    },
    {
      "cell_type": "code",
      "metadata": {
        "id": "2LgVYwOyuuq6"
      },
      "source": [
        "df_acc = pd.DataFrame(ten_fold_acc, columns=['train_acc', 'val_acc', 'train_loss', 'val_loss'])"
      ],
      "execution_count": null,
      "outputs": []
    },
    {
      "cell_type": "code",
      "metadata": {
        "id": "V15i4Wf6u88D"
      },
      "source": [
        "df_acc.to_csv('ten_fold_acc_1.csv')\n",
        "!cp ten_fold_acc_1.csv '/content/drive/My Drive/Dissertation/Experiment 1/Output_csv'"
      ],
      "execution_count": null,
      "outputs": []
    },
    {
      "cell_type": "code",
      "metadata": {
        "colab": {
          "base_uri": "https://localhost:8080/"
        },
        "id": "rqFUn7Ksvpnt",
        "outputId": "f46116f1-4764-4f2e-cc92-0a4829465a75"
      },
      "source": [
        "test_pred = transformer.predict(test_ds, verbose = 1)"
      ],
      "execution_count": null,
      "outputs": [
        {
          "output_type": "stream",
          "name": "stdout",
          "text": [
            "7/7 [==============================] - 1s 31ms/step\n"
          ]
        }
      ]
    },
    {
      "cell_type": "code",
      "metadata": {
        "id": "MnpDaIeQzaq7"
      },
      "source": [
        "char_lookup = dict((v,k) for k,v in char_dict.items())\n",
        "char_lookup[0] = \" \"\n",
        "pred_inflection = []\n",
        "for word in test_pred:\n",
        "  character = []\n",
        "  for letter in word:\n",
        "    index = np.argmax(letter)\n",
        "    char = char_lookup[index]\n",
        "    if char == \">\":\n",
        "      break\n",
        "    character.append(char)\n",
        "  inflection = \"\".join(character)\n",
        "  pred_inflection.append(inflection)"
      ],
      "execution_count": null,
      "outputs": []
    },
    {
      "cell_type": "code",
      "metadata": {
        "colab": {
          "base_uri": "https://localhost:8080/",
          "height": 419
        },
        "id": "XOinEMDb3qPt",
        "outputId": "37ae9e37-cc54-4f04-c63e-3353c126ce01"
      },
      "source": [
        "df_ed_test"
      ],
      "execution_count": null,
      "outputs": [
        {
          "output_type": "execute_result",
          "data": {
            "text/html": [
              "<div>\n",
              "<style scoped>\n",
              "    .dataframe tbody tr th:only-of-type {\n",
              "        vertical-align: middle;\n",
              "    }\n",
              "\n",
              "    .dataframe tbody tr th {\n",
              "        vertical-align: top;\n",
              "    }\n",
              "\n",
              "    .dataframe thead th {\n",
              "        text-align: right;\n",
              "    }\n",
              "</style>\n",
              "<table border=\"1\" class=\"dataframe\">\n",
              "  <thead>\n",
              "    <tr style=\"text-align: right;\">\n",
              "      <th></th>\n",
              "      <th>root</th>\n",
              "      <th>inflection</th>\n",
              "      <th>tag</th>\n",
              "      <th>reg</th>\n",
              "    </tr>\n",
              "  </thead>\n",
              "  <tbody>\n",
              "    <tr>\n",
              "      <th>0</th>\n",
              "      <td>enwind</td>\n",
              "      <td>enwound</td>\n",
              "      <td>V;PST</td>\n",
              "      <td>False</td>\n",
              "    </tr>\n",
              "    <tr>\n",
              "      <th>1</th>\n",
              "      <td>conscript</td>\n",
              "      <td>conscripted</td>\n",
              "      <td>V;PST</td>\n",
              "      <td>True</td>\n",
              "    </tr>\n",
              "    <tr>\n",
              "      <th>16</th>\n",
              "      <td>stereotype</td>\n",
              "      <td>stereotyped</td>\n",
              "      <td>V;PST</td>\n",
              "      <td>False</td>\n",
              "    </tr>\n",
              "    <tr>\n",
              "      <th>19</th>\n",
              "      <td>countervail</td>\n",
              "      <td>countervailed</td>\n",
              "      <td>V;PST</td>\n",
              "      <td>True</td>\n",
              "    </tr>\n",
              "    <tr>\n",
              "      <th>22</th>\n",
              "      <td>becue</td>\n",
              "      <td>becued</td>\n",
              "      <td>V;PST</td>\n",
              "      <td>False</td>\n",
              "    </tr>\n",
              "    <tr>\n",
              "      <th>...</th>\n",
              "      <td>...</td>\n",
              "      <td>...</td>\n",
              "      <td>...</td>\n",
              "      <td>...</td>\n",
              "    </tr>\n",
              "    <tr>\n",
              "      <th>965</th>\n",
              "      <td>rat-race</td>\n",
              "      <td>rat-raced</td>\n",
              "      <td>V;PST</td>\n",
              "      <td>False</td>\n",
              "    </tr>\n",
              "    <tr>\n",
              "      <th>967</th>\n",
              "      <td>disaffirm</td>\n",
              "      <td>disaffirmed</td>\n",
              "      <td>V;PST</td>\n",
              "      <td>True</td>\n",
              "    </tr>\n",
              "    <tr>\n",
              "      <th>969</th>\n",
              "      <td>cameltoe</td>\n",
              "      <td>cameltoed</td>\n",
              "      <td>V;PST</td>\n",
              "      <td>False</td>\n",
              "    </tr>\n",
              "    <tr>\n",
              "      <th>977</th>\n",
              "      <td>blister</td>\n",
              "      <td>blistered</td>\n",
              "      <td>V;PST</td>\n",
              "      <td>True</td>\n",
              "    </tr>\n",
              "    <tr>\n",
              "      <th>991</th>\n",
              "      <td>answer</td>\n",
              "      <td>answered</td>\n",
              "      <td>V;PST</td>\n",
              "      <td>True</td>\n",
              "    </tr>\n",
              "  </tbody>\n",
              "</table>\n",
              "<p>222 rows × 4 columns</p>\n",
              "</div>"
            ],
            "text/plain": [
              "            root     inflection    tag    reg\n",
              "0         enwind        enwound  V;PST  False\n",
              "1      conscript    conscripted  V;PST   True\n",
              "16    stereotype    stereotyped  V;PST  False\n",
              "19   countervail  countervailed  V;PST   True\n",
              "22         becue         becued  V;PST  False\n",
              "..           ...            ...    ...    ...\n",
              "965     rat-race      rat-raced  V;PST  False\n",
              "967    disaffirm    disaffirmed  V;PST   True\n",
              "969     cameltoe      cameltoed  V;PST  False\n",
              "977      blister      blistered  V;PST   True\n",
              "991       answer       answered  V;PST   True\n",
              "\n",
              "[222 rows x 4 columns]"
            ]
          },
          "metadata": {},
          "execution_count": 150
        }
      ]
    },
    {
      "cell_type": "code",
      "metadata": {
        "id": "6qmYOCXB4M2H"
      },
      "source": [
        "for inputs, targets in test_ds:\n",
        "  print(type(targets))\n",
        "  print(len(targets))\n",
        "  print(targets[0])"
      ],
      "execution_count": null,
      "outputs": []
    },
    {
      "cell_type": "code",
      "metadata": {
        "id": "V6ricACE5peH"
      },
      "source": [
        "pred_inflection.sort()"
      ],
      "execution_count": null,
      "outputs": []
    },
    {
      "cell_type": "code",
      "metadata": {
        "id": "McORAgRi6Fa4"
      },
      "source": [
        "original_inflection = list(df_ed_test['inflection'].values)"
      ],
      "execution_count": null,
      "outputs": []
    },
    {
      "cell_type": "code",
      "metadata": {
        "id": "9m5iJu1B6Us6"
      },
      "source": [
        "original_inflection[0] = 'calvinised'"
      ],
      "execution_count": null,
      "outputs": []
    },
    {
      "cell_type": "code",
      "metadata": {
        "id": "wtoCVdwE6rKE"
      },
      "source": [
        "original_inflection.sort()"
      ],
      "execution_count": null,
      "outputs": []
    },
    {
      "cell_type": "code",
      "metadata": {
        "id": "o2RK97Sg6s9d"
      },
      "source": [
        "original_inflection"
      ],
      "execution_count": null,
      "outputs": []
    },
    {
      "cell_type": "code",
      "metadata": {
        "id": "yQsJIxPLz1PP"
      },
      "source": [
        "pred_inflection"
      ],
      "execution_count": null,
      "outputs": []
    },
    {
      "cell_type": "code",
      "metadata": {
        "id": "J8ty4Wev0E5p"
      },
      "source": [
        "df_pred = pd.DataFrame(original_inflection, columns = ['test_inflection'])\n",
        "df_pred['pred_1'] = pred_inflection"
      ],
      "execution_count": null,
      "outputs": []
    },
    {
      "cell_type": "code",
      "metadata": {
        "id": "kuFFTZhX7YgN"
      },
      "source": [
        "df_pred['Acc'] = np.where(df_pred['test_inflection'] == df_pred['pred_1'], 1,0)"
      ],
      "execution_count": null,
      "outputs": []
    },
    {
      "cell_type": "code",
      "metadata": {
        "colab": {
          "base_uri": "https://localhost:8080/"
        },
        "id": "WpBxtiTZ8rN5",
        "outputId": "588c4bea-3b72-41e7-cc8c-3feb2ce0ca15"
      },
      "source": [
        "sum(df_pred['Acc'])/len(df_pred)"
      ],
      "execution_count": null,
      "outputs": [
        {
          "output_type": "execute_result",
          "data": {
            "text/plain": [
              "0.8603603603603603"
            ]
          },
          "metadata": {},
          "execution_count": 213
        }
      ]
    },
    {
      "cell_type": "code",
      "metadata": {
        "id": "RRoKgw8G1_Yk"
      },
      "source": [
        "df_pred.to_csv('Prediction_1.csv')\n",
        "!cp Prediction_1.csv '/content/drive/My Drive/Dissertation/Experiment 1/Output_csv'"
      ],
      "execution_count": null,
      "outputs": []
    },
    {
      "cell_type": "markdown",
      "metadata": {
        "id": "a4hqN3cvOrqx"
      },
      "source": [
        "#Model 2 Just Past Tense"
      ]
    },
    {
      "cell_type": "code",
      "metadata": {
        "id": "g31fQTNbOwH-"
      },
      "source": [
        "checkpoint_path = file_path+'Model_3/checkpoint_past_tense'\n",
        "checkpoint= ModelCheckpoint(checkpoint_path, monitor = 'val_loss', mode='min', save_best_only = True, verbose = 1)\n",
        "epochs = 20  \n",
        "from tensorflow.keras import layers, Sequential, Model, Input, optimizers\n",
        "adam = optimizers.Adam(lr=0.0005, beta_1=0.9, beta_2=0.999)\n",
        "transformer.compile(\n",
        "    optimizer = adam, loss=\"sparse_categorical_crossentropy\", metrics=[\"accuracy\"]\n",
        ")\n",
        "history = transformer.fit(train_ds, epochs=epochs, validation_data=val_ds, callbacks = checkpoint)"
      ],
      "execution_count": null,
      "outputs": []
    },
    {
      "cell_type": "code",
      "metadata": {
        "colab": {
          "base_uri": "https://localhost:8080/",
          "height": 337
        },
        "id": "a_YqTaEuS3hF",
        "outputId": "868faa31-dc72-4ff8-83c1-684a45f36bae"
      },
      "source": [
        "plt.style.use('ggplot')\n",
        "\n",
        "def plot_history(history):\n",
        "    accuracy = history.history['accuracy']\n",
        "    val_accuracy = history.history['val_accuracy']\n",
        "    loss = history.history['loss']\n",
        "    val_loss = history.history['val_loss']\n",
        "    x = range(1, len(accuracy) + 1)\n",
        "\n",
        "    plt.figure(figsize=(12, 5))\n",
        "    plt.subplot(1, 2, 1)\n",
        "    plt.plot(x, accuracy, 'b', label='Training acc')\n",
        "    plt.plot(x, val_accuracy, 'r', label='Validation acc')\n",
        "    plt.title('Training and validation accuracy')\n",
        "    plt.legend()\n",
        "    plt.subplot(1, 2, 2)\n",
        "    plt.plot(x, loss, 'b', label='Training loss')\n",
        "    plt.plot(x, val_loss, 'r', label='Validation loss')\n",
        "    plt.title('Training and validation loss')\n",
        "    plt.legend()\n",
        "\n",
        "plot_history(history)"
      ],
      "execution_count": null,
      "outputs": [
        {
          "output_type": "display_data",
          "data": {
            "image/png": "[encoded data removed]",
            "text/plain": [
              "<Figure size 864x360 with 2 Axes>"
            ]
          },
          "metadata": {}
        }
      ]
    },
    {
      "cell_type": "code",
      "metadata": {
        "colab": {
          "base_uri": "https://localhost:8080/"
        },
        "id": "7E_e7LWLS9z2",
        "outputId": "58ed3217-de0e-4c88-fb1c-0673164062e9"
      },
      "source": [
        "char_lookup = dict((v,k) for k,v in char_dict.items())\n",
        "char_lookup[0] = \" \"\n",
        "test_pred = transformer.predict(test_ds, verbose=1)\n",
        "pred_inflection = []\n",
        "for word in test_pred:\n",
        "  character = []\n",
        "  for letter in word:\n",
        "    index = np.argmax(letter)\n",
        "    char = char_lookup[index]\n",
        "    if char == \">\":\n",
        "      break\n",
        "    character.append(char)\n",
        "  inflection = \"\".join(character)\n",
        "  pred_inflection.append(inflection)"
      ],
      "execution_count": null,
      "outputs": [
        {
          "output_type": "stream",
          "name": "stdout",
          "text": [
            "7/7 [==============================] - 1s 26ms/step\n"
          ]
        }
      ]
    },
    {
      "cell_type": "code",
      "metadata": {
        "id": "j5ip22zGTZcc"
      },
      "source": [
        "df_ed_test['pred'] = pred_inflection\n",
        "df_ed_test['Acc'] = np.where(df_ed_test['inflection'] == df_ed_test['pred'], 1,0)"
      ],
      "execution_count": null,
      "outputs": []
    },
    {
      "cell_type": "code",
      "metadata": {
        "colab": {
          "base_uri": "https://localhost:8080/",
          "height": 142
        },
        "id": "flTTOm5Orfwd",
        "outputId": "88dad113-83e9-4da4-bba3-257a7f41ad87"
      },
      "source": [
        "df_ed_test.groupby(['reg']).Acc.value_counts().unstack()\n"
      ],
      "execution_count": null,
      "outputs": [
        {
          "output_type": "execute_result",
          "data": {
            "text/html": [
              "<div>\n",
              "<style scoped>\n",
              "    .dataframe tbody tr th:only-of-type {\n",
              "        vertical-align: middle;\n",
              "    }\n",
              "\n",
              "    .dataframe tbody tr th {\n",
              "        vertical-align: top;\n",
              "    }\n",
              "\n",
              "    .dataframe thead th {\n",
              "        text-align: right;\n",
              "    }\n",
              "</style>\n",
              "<table border=\"1\" class=\"dataframe\">\n",
              "  <thead>\n",
              "    <tr style=\"text-align: right;\">\n",
              "      <th>Acc</th>\n",
              "      <th>0</th>\n",
              "      <th>1</th>\n",
              "    </tr>\n",
              "    <tr>\n",
              "      <th>reg</th>\n",
              "      <th></th>\n",
              "      <th></th>\n",
              "    </tr>\n",
              "  </thead>\n",
              "  <tbody>\n",
              "    <tr>\n",
              "      <th>Irregular</th>\n",
              "      <td>18</td>\n",
              "      <td>100</td>\n",
              "    </tr>\n",
              "    <tr>\n",
              "      <th>Regular</th>\n",
              "      <td>6</td>\n",
              "      <td>98</td>\n",
              "    </tr>\n",
              "  </tbody>\n",
              "</table>\n",
              "</div>"
            ],
            "text/plain": [
              "Acc         0    1\n",
              "reg               \n",
              "Irregular  18  100\n",
              "Regular     6   98"
            ]
          },
          "metadata": {},
          "execution_count": 214
        }
      ]
    },
    {
      "cell_type": "code",
      "metadata": {
        "colab": {
          "base_uri": "https://localhost:8080/"
        },
        "id": "lyV3cmdXTRWI",
        "outputId": "6b1c8dcd-4eb4-431c-e4ae-a4a1874952b7"
      },
      "source": [
        "sum(df_ed_test['Acc'])/len(df_ed_test)"
      ],
      "execution_count": null,
      "outputs": [
        {
          "output_type": "execute_result",
          "data": {
            "text/plain": [
              "0.8918918918918919"
            ]
          },
          "metadata": {},
          "execution_count": 210
        }
      ]
    },
    {
      "cell_type": "code",
      "metadata": {
        "id": "BeSQFjSzT6yA"
      },
      "source": [
        "df_ed_test.to_csv('Prediction_past_tense.csv')\n",
        "!cp Prediction_past_tense.csv '/content/drive/My Drive/Dissertation/Experiment 1/Output_csv'"
      ],
      "execution_count": null,
      "outputs": []
    },
    {
      "cell_type": "markdown",
      "metadata": {
        "id": "tw2jEbUNXSsS"
      },
      "source": [
        "#Model 3 All verbs All Inflections"
      ]
    },
    {
      "cell_type": "code",
      "metadata": {
        "id": "EK_7fgmoXSJ9"
      },
      "source": [
        "from keras.callbacks import ModelCheckpoint\n",
        "checkpoint_path = file_path+'Model_3/checkpoint'\n",
        "checkpoint= ModelCheckpoint(checkpoint_path, monitor = 'val_loss', mode='min', save_best_only = True, verbose = 1)\n",
        "epochs = 20  # This should be at least 30 for convergence\n",
        "from tensorflow.keras import layers, Sequential, Model, Input, optimizers\n",
        "adam = optimizers.Adam(lr=0.0005, beta_1=0.9, beta_2=0.999)\n",
        "transformer.compile(\n",
        "    optimizer = adam, loss=\"sparse_categorical_crossentropy\", metrics=[\"accuracy\"]\n",
        ")\n",
        "history = transformer.fit(train_ds, epochs=epochs, validation_data=val_ds, callbacks = checkpoint)"
      ],
      "execution_count": null,
      "outputs": []
    },
    {
      "cell_type": "code",
      "metadata": {
        "colab": {
          "base_uri": "https://localhost:8080/",
          "height": 337
        },
        "id": "5BMRSll7Z0--",
        "outputId": "883d8409-6685-4cfa-c90f-fc76122c94b1"
      },
      "source": [
        "plt.style.use('ggplot')\n",
        "\n",
        "def plot_history(history):\n",
        "    accuracy = history.history['accuracy']\n",
        "    val_accuracy = history.history['val_accuracy']\n",
        "    loss = history.history['loss']\n",
        "    val_loss = history.history['val_loss']\n",
        "    x = range(1, len(accuracy) + 1)\n",
        "\n",
        "    plt.figure(figsize=(12, 5))\n",
        "    plt.subplot(1, 2, 1)\n",
        "    plt.plot(x, accuracy, 'b', label='Training acc')\n",
        "    plt.plot(x, val_accuracy, 'r', label='Validation acc')\n",
        "    plt.title('Training and validation accuracy')\n",
        "    plt.legend()\n",
        "    plt.subplot(1, 2, 2)\n",
        "    plt.plot(x, loss, 'b', label='Training loss')\n",
        "    plt.plot(x, val_loss, 'r', label='Validation loss')\n",
        "    plt.title('Training and validation loss')\n",
        "    plt.legend()\n",
        "\n",
        "plot_history(history)"
      ],
      "execution_count": null,
      "outputs": [
        {
          "output_type": "display_data",
          "data": {
            "image/png": "[encoded data removed]",
            "text/plain": [
              "<Figure size 864x360 with 2 Axes>"
            ]
          },
          "metadata": {}
        }
      ]
    },
    {
      "cell_type": "code",
      "metadata": {
        "colab": {
          "base_uri": "https://localhost:8080/"
        },
        "id": "smMr8bOwZ4lN",
        "outputId": "af1e35d5-5d7e-4eb2-9a46-07ef374d6f69"
      },
      "source": [
        "char_lookup = dict((v,k) for k,v in char_dict.items())\n",
        "char_lookup[0] = \" \"\n",
        "test_pred = transformer.predict(test_ds, verbose=1)\n",
        "pred_inflection = []\n",
        "for word in test_pred:\n",
        "  character = []\n",
        "  for letter in word:\n",
        "    index = np.argmax(letter)\n",
        "    char = char_lookup[index]\n",
        "    if char == \">\":\n",
        "      break\n",
        "    character.append(char)\n",
        "  inflection = \"\".join(character)\n",
        "  pred_inflection.append(inflection)"
      ],
      "execution_count": null,
      "outputs": [
        {
          "output_type": "stream",
          "name": "stdout",
          "text": [
            "32/32 [==============================] - 1s 25ms/step\n"
          ]
        }
      ]
    },
    {
      "cell_type": "code",
      "metadata": {
        "id": "njmBz5Oia3Nq"
      },
      "source": [
        "df_test['pred'] = pred_inflection\n",
        "df_test['Acc'] = np.where(df_test['inflection'] == df_test['pred'], 1,0)"
      ],
      "execution_count": null,
      "outputs": []
    },
    {
      "cell_type": "code",
      "metadata": {
        "colab": {
          "base_uri": "https://localhost:8080/",
          "height": 419
        },
        "id": "v0Vrh5fF-7-f",
        "outputId": "f17c3ddc-3089-4924-c48f-e47723304277"
      },
      "source": [
        "df_test"
      ],
      "execution_count": null,
      "outputs": [
        {
          "output_type": "execute_result",
          "data": {
            "text/html": [
              "<div>\n",
              "<style scoped>\n",
              "    .dataframe tbody tr th:only-of-type {\n",
              "        vertical-align: middle;\n",
              "    }\n",
              "\n",
              "    .dataframe tbody tr th {\n",
              "        vertical-align: top;\n",
              "    }\n",
              "\n",
              "    .dataframe thead th {\n",
              "        text-align: right;\n",
              "    }\n",
              "</style>\n",
              "<table border=\"1\" class=\"dataframe\">\n",
              "  <thead>\n",
              "    <tr style=\"text-align: right;\">\n",
              "      <th></th>\n",
              "      <th>root</th>\n",
              "      <th>inflection</th>\n",
              "      <th>tag</th>\n",
              "      <th>reg</th>\n",
              "      <th>tag_cat</th>\n",
              "      <th>input_tag</th>\n",
              "      <th>pred</th>\n",
              "      <th>Acc</th>\n",
              "    </tr>\n",
              "  </thead>\n",
              "  <tbody>\n",
              "    <tr>\n",
              "      <th>0</th>\n",
              "      <td>enwind</td>\n",
              "      <td>enwound</td>\n",
              "      <td>V;PST</td>\n",
              "      <td>Irregular</td>\n",
              "      <td>2</td>\n",
              "      <td>enwind2</td>\n",
              "      <td>enwuun</td>\n",
              "      <td>0</td>\n",
              "    </tr>\n",
              "    <tr>\n",
              "      <th>1</th>\n",
              "      <td>conscript</td>\n",
              "      <td>conscripted</td>\n",
              "      <td>V;PST</td>\n",
              "      <td>Regular</td>\n",
              "      <td>2</td>\n",
              "      <td>conscript2</td>\n",
              "      <td>conscripted</td>\n",
              "      <td>1</td>\n",
              "    </tr>\n",
              "    <tr>\n",
              "      <th>2</th>\n",
              "      <td>behallow</td>\n",
              "      <td>behallow</td>\n",
              "      <td>V;NFIN</td>\n",
              "      <td>Regular</td>\n",
              "      <td>1</td>\n",
              "      <td>behallow1</td>\n",
              "      <td>behallow</td>\n",
              "      <td>1</td>\n",
              "    </tr>\n",
              "    <tr>\n",
              "      <th>3</th>\n",
              "      <td>inbend</td>\n",
              "      <td>inbent</td>\n",
              "      <td>V;V.PTCP;PST</td>\n",
              "      <td>None</td>\n",
              "      <td>4</td>\n",
              "      <td>inbend4</td>\n",
              "      <td>inbend</td>\n",
              "      <td>0</td>\n",
              "    </tr>\n",
              "    <tr>\n",
              "      <th>4</th>\n",
              "      <td>inchant</td>\n",
              "      <td>inchanting</td>\n",
              "      <td>V;V.PTCP;PRS</td>\n",
              "      <td>Regular</td>\n",
              "      <td>3</td>\n",
              "      <td>inchant3</td>\n",
              "      <td>inchanting</td>\n",
              "      <td>1</td>\n",
              "    </tr>\n",
              "    <tr>\n",
              "      <th>...</th>\n",
              "      <td>...</td>\n",
              "      <td>...</td>\n",
              "      <td>...</td>\n",
              "      <td>...</td>\n",
              "      <td>...</td>\n",
              "      <td>...</td>\n",
              "      <td>...</td>\n",
              "      <td>...</td>\n",
              "    </tr>\n",
              "    <tr>\n",
              "      <th>995</th>\n",
              "      <td>fulmine</td>\n",
              "      <td>fulmine</td>\n",
              "      <td>V;NFIN</td>\n",
              "      <td>Regular</td>\n",
              "      <td>1</td>\n",
              "      <td>fulmine1</td>\n",
              "      <td>fulmine</td>\n",
              "      <td>1</td>\n",
              "    </tr>\n",
              "    <tr>\n",
              "      <th>996</th>\n",
              "      <td>foozle</td>\n",
              "      <td>foozles</td>\n",
              "      <td>V;3;SG;PRS</td>\n",
              "      <td>Regular</td>\n",
              "      <td>0</td>\n",
              "      <td>foozle0</td>\n",
              "      <td>foozles</td>\n",
              "      <td>1</td>\n",
              "    </tr>\n",
              "    <tr>\n",
              "      <th>997</th>\n",
              "      <td>beseem</td>\n",
              "      <td>beseeming</td>\n",
              "      <td>V;V.PTCP;PRS</td>\n",
              "      <td>Regular</td>\n",
              "      <td>3</td>\n",
              "      <td>beseem3</td>\n",
              "      <td>beseeming</td>\n",
              "      <td>1</td>\n",
              "    </tr>\n",
              "    <tr>\n",
              "      <th>998</th>\n",
              "      <td>undumpish</td>\n",
              "      <td>undumpishes</td>\n",
              "      <td>V;3;SG;PRS</td>\n",
              "      <td>Irregular</td>\n",
              "      <td>0</td>\n",
              "      <td>undumpish0</td>\n",
              "      <td>undumpishes</td>\n",
              "      <td>1</td>\n",
              "    </tr>\n",
              "    <tr>\n",
              "      <th>999</th>\n",
              "      <td>underuse</td>\n",
              "      <td>underused</td>\n",
              "      <td>V;V.PTCP;PST</td>\n",
              "      <td>None</td>\n",
              "      <td>4</td>\n",
              "      <td>underuse4</td>\n",
              "      <td>underused</td>\n",
              "      <td>1</td>\n",
              "    </tr>\n",
              "  </tbody>\n",
              "</table>\n",
              "<p>1000 rows × 8 columns</p>\n",
              "</div>"
            ],
            "text/plain": [
              "          root   inflection           tag  ...   input_tag         pred Acc\n",
              "0       enwind      enwound         V;PST  ...     enwind2       enwuun   0\n",
              "1    conscript  conscripted         V;PST  ...  conscript2  conscripted   1\n",
              "2     behallow     behallow        V;NFIN  ...   behallow1     behallow   1\n",
              "3       inbend       inbent  V;V.PTCP;PST  ...     inbend4       inbend   0\n",
              "4      inchant   inchanting  V;V.PTCP;PRS  ...    inchant3   inchanting   1\n",
              "..         ...          ...           ...  ...         ...          ...  ..\n",
              "995    fulmine      fulmine        V;NFIN  ...    fulmine1      fulmine   1\n",
              "996     foozle      foozles    V;3;SG;PRS  ...     foozle0      foozles   1\n",
              "997     beseem    beseeming  V;V.PTCP;PRS  ...     beseem3    beseeming   1\n",
              "998  undumpish  undumpishes    V;3;SG;PRS  ...  undumpish0  undumpishes   1\n",
              "999   underuse    underused  V;V.PTCP;PST  ...   underuse4    underused   1\n",
              "\n",
              "[1000 rows x 8 columns]"
            ]
          },
          "metadata": {},
          "execution_count": 52
        }
      ]
    },
    {
      "cell_type": "code",
      "metadata": {
        "colab": {
          "base_uri": "https://localhost:8080/"
        },
        "id": "ltveZaKdGt_w",
        "outputId": "b081f1f0-9d58-42f6-de27-84b72f414ed2"
      },
      "source": [
        "df_test['tag'].values"
      ],
      "execution_count": null,
      "outputs": [
        {
          "output_type": "execute_result",
          "data": {
            "text/plain": [
              "['V;PST', 'V;PST', 'V;NFIN', 'V;V.PTCP;PST', 'V;V.PTCP;PRS', ..., 'V;NFIN', 'V;3;SG;PRS', 'V;V.PTCP;PRS', 'V;3;SG;PRS', 'V;V.PTCP;PST']\n",
              "Length: 1000\n",
              "Categories (5, object): ['V;3;SG;PRS', 'V;NFIN', 'V;PST', 'V;V.PTCP;PRS', 'V;V.PTCP;PST']"
            ]
          },
          "metadata": {},
          "execution_count": 73
        }
      ]
    },
    {
      "cell_type": "code",
      "metadata": {
        "id": "pm11MnjL_Hfr"
      },
      "source": [
        "df_test.to_csv('Prediction_all_inflection.csv')\n",
        "!cp Prediction_all_inflection.csv '/content/drive/My Drive/Dissertation/Experiment 1/Output_csv'"
      ],
      "execution_count": null,
      "outputs": []
    },
    {
      "cell_type": "code",
      "metadata": {
        "id": "OZnv01en_owF"
      },
      "source": [
        "def tag_acc(tag):\n",
        "  df0 = df_test[df_test['tag'] == tag]\n",
        "  all_acc = sum(df0['Acc'])/len(df0)\n",
        "  df_reg = df0[df0['reg'] == 'Regular']\n",
        "  reg_per = len(df_reg)/len(df0)\n",
        "  reg_acc = sum(df_reg['Acc'])/len(df_reg)\n",
        "  df_irr = df0[df0['reg'] == 'Irregular']\n",
        "  if len(df_irr) == 0:\n",
        "    irr_acc = 'Nan'\n",
        "    irr_per = 0\n",
        "  else:\n",
        "    irr_acc = sum(df_irr['Acc'])/len(df_irr)\n",
        "    irr_per = len(df_irr)/len(df0)\n",
        "  return [tag, all_acc, reg_acc, irr_acc, \"{:.2%}\".format(reg_per), \"{:.2%}\".format(irr_per)]"
      ],
      "execution_count": null,
      "outputs": []
    },
    {
      "cell_type": "code",
      "metadata": {
        "colab": {
          "base_uri": "https://localhost:8080/",
          "height": 241
        },
        "id": "4FUSY9_2AJrX",
        "outputId": "d383e210-f874-484f-c04a-ab75a205da2d"
      },
      "source": [
        "acc_list = [tag_acc('V;PST'), tag_acc('V;V.PTCP;PST'), tag_acc('V;V.PTCP;PRS'), tag_acc('V;NFIN'), tag_acc('V;3;SG;PRS')]\n",
        "df_acc = pd.DataFrame(acc_list, columns = ['Type', 'Total Acc', 'Regular Acc', 'Irregular Acc', 'Test Regular%', 'Test Irregular%'])\n",
        "df_result = pd.merge(df_acc, df_train_per, on=['Type'])\n",
        "df_result"
      ],
      "execution_count": null,
      "outputs": [
        {
          "output_type": "execute_result",
          "data": {
            "text/html": [
              "<div>\n",
              "<style scoped>\n",
              "    .dataframe tbody tr th:only-of-type {\n",
              "        vertical-align: middle;\n",
              "    }\n",
              "\n",
              "    .dataframe tbody tr th {\n",
              "        vertical-align: top;\n",
              "    }\n",
              "\n",
              "    .dataframe thead th {\n",
              "        text-align: right;\n",
              "    }\n",
              "</style>\n",
              "<table border=\"1\" class=\"dataframe\">\n",
              "  <thead>\n",
              "    <tr style=\"text-align: right;\">\n",
              "      <th></th>\n",
              "      <th>Type</th>\n",
              "      <th>Total Acc</th>\n",
              "      <th>Regular Acc</th>\n",
              "      <th>Irregular Acc</th>\n",
              "      <th>Test Regular%</th>\n",
              "      <th>Test Irregular%</th>\n",
              "      <th>Train Regular</th>\n",
              "      <th>Train Irregular</th>\n",
              "      <th>Train Regular%</th>\n",
              "      <th>Train Irregular%</th>\n",
              "    </tr>\n",
              "  </thead>\n",
              "  <tbody>\n",
              "    <tr>\n",
              "      <th>0</th>\n",
              "      <td>V;PST</td>\n",
              "      <td>0.918919</td>\n",
              "      <td>0.942308</td>\n",
              "      <td>0.898305</td>\n",
              "      <td>46.85%</td>\n",
              "      <td>53.15%</td>\n",
              "      <td>693.0</td>\n",
              "      <td>1002.0</td>\n",
              "      <td>40.88%</td>\n",
              "      <td>59.12%</td>\n",
              "    </tr>\n",
              "    <tr>\n",
              "      <th>1</th>\n",
              "      <td>V;V.PTCP;PST</td>\n",
              "      <td>0.827225</td>\n",
              "      <td>0.926829</td>\n",
              "      <td>0.752294</td>\n",
              "      <td>42.93%</td>\n",
              "      <td>57.07%</td>\n",
              "      <td>671.0</td>\n",
              "      <td>1023.0</td>\n",
              "      <td>39.61%</td>\n",
              "      <td>60.39%</td>\n",
              "    </tr>\n",
              "    <tr>\n",
              "      <th>2</th>\n",
              "      <td>V;V.PTCP;PRS</td>\n",
              "      <td>0.905941</td>\n",
              "      <td>0.970297</td>\n",
              "      <td>0.841584</td>\n",
              "      <td>50.00%</td>\n",
              "      <td>50.00%</td>\n",
              "      <td>828.0</td>\n",
              "      <td>852.0</td>\n",
              "      <td>49.29%</td>\n",
              "      <td>50.71%</td>\n",
              "    </tr>\n",
              "    <tr>\n",
              "      <th>3</th>\n",
              "      <td>V;NFIN</td>\n",
              "      <td>0.977143</td>\n",
              "      <td>0.977143</td>\n",
              "      <td>Nan</td>\n",
              "      <td>100.00%</td>\n",
              "      <td>0.00%</td>\n",
              "      <td>1716.0</td>\n",
              "      <td>0.0</td>\n",
              "      <td>100.00%</td>\n",
              "      <td>0.00%</td>\n",
              "    </tr>\n",
              "    <tr>\n",
              "      <th>4</th>\n",
              "      <td>V;3;SG;PRS</td>\n",
              "      <td>0.957143</td>\n",
              "      <td>0.956757</td>\n",
              "      <td>0.96</td>\n",
              "      <td>88.10%</td>\n",
              "      <td>11.90%</td>\n",
              "      <td>1564.0</td>\n",
              "      <td>151.0</td>\n",
              "      <td>91.20%</td>\n",
              "      <td>8.80%</td>\n",
              "    </tr>\n",
              "  </tbody>\n",
              "</table>\n",
              "</div>"
            ],
            "text/plain": [
              "           Type  Total Acc  ...  Train Regular% Train Irregular%\n",
              "0         V;PST   0.918919  ...          40.88%           59.12%\n",
              "1  V;V.PTCP;PST   0.827225  ...          39.61%           60.39%\n",
              "2  V;V.PTCP;PRS   0.905941  ...          49.29%           50.71%\n",
              "3        V;NFIN   0.977143  ...         100.00%            0.00%\n",
              "4    V;3;SG;PRS   0.957143  ...          91.20%            8.80%\n",
              "\n",
              "[5 rows x 10 columns]"
            ]
          },
          "metadata": {},
          "execution_count": 157
        }
      ]
    },
    {
      "cell_type": "code",
      "metadata": {
        "id": "0Xm9ZWPyIv9h"
      },
      "source": [
        "df_result.to_csv('Model_3_acc.csv')\n",
        "!cp Model_3_acc.csv output_path"
      ],
      "execution_count": null,
      "outputs": []
    },
    {
      "cell_type": "markdown",
      "metadata": {
        "id": "QiuqCL4KtCLb"
      },
      "source": [
        "#Model 4 3SG -s\n"
      ]
    },
    {
      "cell_type": "code",
      "metadata": {
        "id": "CohQd0jLtFcf"
      },
      "source": [
        "checkpoint_path = file_path+'Model_3/checkpoint_3sg_s'\n",
        "checkpoint= ModelCheckpoint(checkpoint_path, monitor = 'val_loss', mode='min', save_best_only = True, verbose = 1)\n",
        "epochs = 20  \n",
        "from tensorflow.keras import layers, Sequential, Model, Input, optimizers\n",
        "adam = optimizers.Adam(lr=0.0005, beta_1=0.9, beta_2=0.999)\n",
        "transformer.compile(\n",
        "    optimizer = adam, loss=\"sparse_categorical_crossentropy\", metrics=[\"accuracy\"]\n",
        ")\n",
        "history = transformer.fit(train_ds, epochs=epochs, validation_data=val_ds, callbacks = checkpoint)"
      ],
      "execution_count": null,
      "outputs": []
    },
    {
      "cell_type": "code",
      "metadata": {
        "colab": {
          "base_uri": "https://localhost:8080/",
          "height": 337
        },
        "id": "FELk2skoukul",
        "outputId": "5b548251-76cb-4a12-f83c-2d133eb41896"
      },
      "source": [
        "plot_history(history)"
      ],
      "execution_count": null,
      "outputs": [
        {
          "output_type": "display_data",
          "data": {
            "image/png": "[encoded data removed]",
            "text/plain": [
              "<Figure size 864x360 with 2 Axes>"
            ]
          },
          "metadata": {}
        }
      ]
    },
    {
      "cell_type": "code",
      "metadata": {
        "colab": {
          "base_uri": "https://localhost:8080/"
        },
        "id": "mIRFaWXLumu0",
        "outputId": "3f82c104-be6e-4ef1-e911-925750cc2462"
      },
      "source": [
        "char_lookup = dict((v,k) for k,v in char_dict.items())\n",
        "char_lookup[0] = \" \"\n",
        "test_pred = transformer.predict(test_ds, verbose=1)\n",
        "pred_inflection = []\n",
        "for word in test_pred:\n",
        "  character = []\n",
        "  for letter in word:\n",
        "    index = np.argmax(letter)\n",
        "    char = char_lookup[index]\n",
        "    if char == \">\":\n",
        "      break\n",
        "    character.append(char)\n",
        "  inflection = \"\".join(character)\n",
        "  pred_inflection.append(inflection)"
      ],
      "execution_count": null,
      "outputs": [
        {
          "output_type": "stream",
          "name": "stdout",
          "text": [
            "7/7 [==============================] - 0s 23ms/step\n"
          ]
        }
      ]
    },
    {
      "cell_type": "code",
      "metadata": {
        "colab": {
          "base_uri": "https://localhost:8080/",
          "height": 366
        },
        "id": "sIcwsDdiuuhb",
        "outputId": "f607a27a-1893-41c8-9b79-19b92ee3efcb"
      },
      "source": [
        "df_s_test['pred'] = pred_inflection\n",
        "df_s_test['Acc'] = np.where(df_s_test['inflection'] == df_s_test['pred'], 1,0)\n",
        "df_s_test.groupby(['reg']).Acc.value_counts().unstack()\n"
      ],
      "execution_count": null,
      "outputs": [
        {
          "output_type": "stream",
          "name": "stderr",
          "text": [
            "/usr/local/lib/python3.7/dist-packages/ipykernel_launcher.py:1: SettingWithCopyWarning: \n",
            "A value is trying to be set on a copy of a slice from a DataFrame.\n",
            "Try using .loc[row_indexer,col_indexer] = value instead\n",
            "\n",
            "See the caveats in the documentation: https://pandas.pydata.org/pandas-docs/stable/user_guide/indexing.html#returning-a-view-versus-a-copy\n",
            "  \"\"\"Entry point for launching an IPython kernel.\n",
            "/usr/local/lib/python3.7/dist-packages/ipykernel_launcher.py:2: SettingWithCopyWarning: \n",
            "A value is trying to be set on a copy of a slice from a DataFrame.\n",
            "Try using .loc[row_indexer,col_indexer] = value instead\n",
            "\n",
            "See the caveats in the documentation: https://pandas.pydata.org/pandas-docs/stable/user_guide/indexing.html#returning-a-view-versus-a-copy\n",
            "  \n"
          ]
        },
        {
          "output_type": "execute_result",
          "data": {
            "text/html": [
              "<div>\n",
              "<style scoped>\n",
              "    .dataframe tbody tr th:only-of-type {\n",
              "        vertical-align: middle;\n",
              "    }\n",
              "\n",
              "    .dataframe tbody tr th {\n",
              "        vertical-align: top;\n",
              "    }\n",
              "\n",
              "    .dataframe thead th {\n",
              "        text-align: right;\n",
              "    }\n",
              "</style>\n",
              "<table border=\"1\" class=\"dataframe\">\n",
              "  <thead>\n",
              "    <tr style=\"text-align: right;\">\n",
              "      <th>Acc</th>\n",
              "      <th>0</th>\n",
              "      <th>1</th>\n",
              "    </tr>\n",
              "    <tr>\n",
              "      <th>reg</th>\n",
              "      <th></th>\n",
              "      <th></th>\n",
              "    </tr>\n",
              "  </thead>\n",
              "  <tbody>\n",
              "    <tr>\n",
              "      <th>Irregular</th>\n",
              "      <td>5</td>\n",
              "      <td>20</td>\n",
              "    </tr>\n",
              "    <tr>\n",
              "      <th>Regular</th>\n",
              "      <td>8</td>\n",
              "      <td>177</td>\n",
              "    </tr>\n",
              "  </tbody>\n",
              "</table>\n",
              "</div>"
            ],
            "text/plain": [
              "Acc        0    1\n",
              "reg              \n",
              "Irregular  5   20\n",
              "Regular    8  177"
            ]
          },
          "metadata": {},
          "execution_count": 249
        }
      ]
    },
    {
      "cell_type": "code",
      "metadata": {
        "id": "HwUZeRWXwrVu"
      },
      "source": [
        "df_s_test.to_csv('Prediction_3sg_s.csv')\n",
        "!cp Prediction_3sg_s.csv '/content/drive/My Drive/Dissertation/Experiment 1/Output_csv'"
      ],
      "execution_count": null,
      "outputs": []
    },
    {
      "cell_type": "markdown",
      "metadata": {
        "id": "te5jrwbFxXPn"
      },
      "source": [
        "#Model 5 Pre Progressive -ing\n"
      ]
    },
    {
      "cell_type": "code",
      "metadata": {
        "id": "xCRy16haxdGW"
      },
      "source": [
        "checkpoint_path = file_path+'Model_3/checkpoint_present_progressive'\n",
        "checkpoint= ModelCheckpoint(checkpoint_path, monitor = 'val_loss', mode='min', save_best_only = True, verbose = 1)\n",
        "epochs = 20  \n",
        "from tensorflow.keras import layers, Sequential, Model, Input, optimizers\n",
        "adam = optimizers.Adam(lr=0.0005, beta_1=0.9, beta_2=0.999)\n",
        "transformer.compile(\n",
        "    optimizer = adam, loss=\"sparse_categorical_crossentropy\", metrics=[\"accuracy\"]\n",
        ")\n",
        "history = transformer.fit(train_ds, epochs=epochs, validation_data=val_ds, callbacks = checkpoint)"
      ],
      "execution_count": null,
      "outputs": []
    },
    {
      "cell_type": "code",
      "metadata": {
        "colab": {
          "base_uri": "https://localhost:8080/",
          "height": 337
        },
        "id": "aMhVdhMI0CY0",
        "outputId": "0380baaf-e5d4-420d-94a5-e1eb56fee9d8"
      },
      "source": [
        "plot_history(history)"
      ],
      "execution_count": null,
      "outputs": [
        {
          "output_type": "display_data",
          "data": {
            "image/png": "[encoded data removed]",
            "text/plain": [
              "<Figure size 864x360 with 2 Axes>"
            ]
          },
          "metadata": {}
        }
      ]
    },
    {
      "cell_type": "code",
      "metadata": {
        "colab": {
          "base_uri": "https://localhost:8080/"
        },
        "id": "fIYiGtRz0EA1",
        "outputId": "8bdb2d0f-21e1-477e-8224-e4cc8cf93d28"
      },
      "source": [
        "char_lookup = dict((v,k) for k,v in char_dict.items())\n",
        "char_lookup[0] = \" \"\n",
        "test_pred = transformer.predict(test_ds, verbose=1)\n",
        "pred_inflection = []\n",
        "for word in test_pred:\n",
        "  character = []\n",
        "  for letter in word:\n",
        "    index = np.argmax(letter)\n",
        "    char = char_lookup[index]\n",
        "    if char == \">\":\n",
        "      break\n",
        "    character.append(char)\n",
        "  inflection = \"\".join(character)\n",
        "  pred_inflection.append(inflection)"
      ],
      "execution_count": null,
      "outputs": [
        {
          "output_type": "stream",
          "name": "stdout",
          "text": [
            "7/7 [==============================] - 1s 21ms/step\n"
          ]
        }
      ]
    },
    {
      "cell_type": "code",
      "metadata": {
        "colab": {
          "base_uri": "https://localhost:8080/",
          "height": 366
        },
        "id": "Lbyat2W30H7a",
        "outputId": "3ebb9019-cb4f-4339-f73d-56a375c1f0af"
      },
      "source": [
        "df_ing_test['pred'] = pred_inflection\n",
        "df_ing_test['Acc'] = np.where(df_ing_test['inflection'] == df_ing_test['pred'], 1,0)\n",
        "df_ing_test.groupby(['reg']).Acc.value_counts().unstack()\n"
      ],
      "execution_count": null,
      "outputs": [
        {
          "output_type": "stream",
          "name": "stderr",
          "text": [
            "/usr/local/lib/python3.7/dist-packages/ipykernel_launcher.py:1: SettingWithCopyWarning: \n",
            "A value is trying to be set on a copy of a slice from a DataFrame.\n",
            "Try using .loc[row_indexer,col_indexer] = value instead\n",
            "\n",
            "See the caveats in the documentation: https://pandas.pydata.org/pandas-docs/stable/user_guide/indexing.html#returning-a-view-versus-a-copy\n",
            "  \"\"\"Entry point for launching an IPython kernel.\n",
            "/usr/local/lib/python3.7/dist-packages/ipykernel_launcher.py:2: SettingWithCopyWarning: \n",
            "A value is trying to be set on a copy of a slice from a DataFrame.\n",
            "Try using .loc[row_indexer,col_indexer] = value instead\n",
            "\n",
            "See the caveats in the documentation: https://pandas.pydata.org/pandas-docs/stable/user_guide/indexing.html#returning-a-view-versus-a-copy\n",
            "  \n"
          ]
        },
        {
          "output_type": "execute_result",
          "data": {
            "text/html": [
              "<div>\n",
              "<style scoped>\n",
              "    .dataframe tbody tr th:only-of-type {\n",
              "        vertical-align: middle;\n",
              "    }\n",
              "\n",
              "    .dataframe tbody tr th {\n",
              "        vertical-align: top;\n",
              "    }\n",
              "\n",
              "    .dataframe thead th {\n",
              "        text-align: right;\n",
              "    }\n",
              "</style>\n",
              "<table border=\"1\" class=\"dataframe\">\n",
              "  <thead>\n",
              "    <tr style=\"text-align: right;\">\n",
              "      <th>Acc</th>\n",
              "      <th>0</th>\n",
              "      <th>1</th>\n",
              "    </tr>\n",
              "    <tr>\n",
              "      <th>reg</th>\n",
              "      <th></th>\n",
              "      <th></th>\n",
              "    </tr>\n",
              "  </thead>\n",
              "  <tbody>\n",
              "    <tr>\n",
              "      <th>Irregular</th>\n",
              "      <td>15</td>\n",
              "      <td>86</td>\n",
              "    </tr>\n",
              "    <tr>\n",
              "      <th>Regular</th>\n",
              "      <td>3</td>\n",
              "      <td>98</td>\n",
              "    </tr>\n",
              "  </tbody>\n",
              "</table>\n",
              "</div>"
            ],
            "text/plain": [
              "Acc         0   1\n",
              "reg              \n",
              "Irregular  15  86\n",
              "Regular     3  98"
            ]
          },
          "metadata": {},
          "execution_count": 261
        }
      ]
    },
    {
      "cell_type": "code",
      "metadata": {
        "id": "JCNPg9jg0OnE"
      },
      "source": [
        "df_ing_test.to_csv('Prediction_ptcp_prs_ing.csv')\n",
        "!cp Prediction_ptcp_prs_ing.csv '/content/drive/My Drive/Dissertation/Experiment 1/Output_csv'"
      ],
      "execution_count": null,
      "outputs": []
    },
    {
      "cell_type": "markdown",
      "metadata": {
        "id": "C4kM-GJt1wv1"
      },
      "source": [
        "#Model 6 Past Participle -en"
      ]
    },
    {
      "cell_type": "code",
      "metadata": {
        "id": "5MrKcAJ610ng"
      },
      "source": [
        "\n",
        "epochs = 20  \n",
        "from tensorflow.keras import layers, Sequential, Model, Input, optimizers\n",
        "adam = optimizers.Adam(lr=0.0005, beta_1=0.9, beta_2=0.999)\n",
        "transformer.compile(\n",
        "    optimizer = adam, loss=\"sparse_categorical_crossentropy\", metrics=[\"accuracy\"]\n",
        ")\n",
        "history = transformer.fit(train_ds, epochs=epochs, validation_data=val_ds, callbacks = checkpoint)"
      ],
      "execution_count": null,
      "outputs": []
    },
    {
      "cell_type": "code",
      "metadata": {
        "colab": {
          "base_uri": "https://localhost:8080/",
          "height": 337
        },
        "id": "2Mp0jUYx2sVN",
        "outputId": "ed9b769c-cc81-4536-c274-2f0da00da1fb"
      },
      "source": [
        "plot_history(history)"
      ],
      "execution_count": null,
      "outputs": [
        {
          "output_type": "display_data",
          "data": {
            "image/png": "[encoded data removed]",
            "text/plain": [
              "<Figure size 864x360 with 2 Axes>"
            ]
          },
          "metadata": {}
        }
      ]
    },
    {
      "cell_type": "code",
      "metadata": {
        "colab": {
          "base_uri": "https://localhost:8080/"
        },
        "id": "SUQwZeIm2uqy",
        "outputId": "1881dd92-6391-4c3b-bb9d-e3c7fa4d9469"
      },
      "source": [
        "char_lookup = dict((v,k) for k,v in char_dict.items())\n",
        "char_lookup[0] = \" \"\n",
        "test_pred = transformer.predict(test_ds, verbose=1)\n",
        "pred_inflection = []\n",
        "for word in test_pred:\n",
        "  character = []\n",
        "  for letter in word:\n",
        "    index = np.argmax(letter)\n",
        "    char = char_lookup[index]\n",
        "    if char == \">\":\n",
        "      break\n",
        "    character.append(char)\n",
        "  inflection = \"\".join(character)\n",
        "  pred_inflection.append(inflection)"
      ],
      "execution_count": null,
      "outputs": [
        {
          "output_type": "stream",
          "name": "stdout",
          "text": [
            "6/6 [==============================] - 0s 24ms/step\n"
          ]
        }
      ]
    },
    {
      "cell_type": "code",
      "metadata": {
        "id": "n7w36JNS21NK"
      },
      "source": [
        "df_en_test['pred'] = pred_inflection\n",
        "df_en_test['Acc'] = np.where(df_en_test['inflection'] == df_en_test['pred'], 1,0)\n",
        "df_en_test.groupby(['reg']).Acc.value_counts().unstack()\n"
      ],
      "execution_count": null,
      "outputs": []
    },
    {
      "cell_type": "code",
      "metadata": {
        "id": "xVh8zCIO3zfJ"
      },
      "source": [
        "df_en_test.to_csv('Prediction_ptcp_pst_en.csv')\n",
        "!cp Prediction_ptcp_pst_en.csv '/content/drive/My Drive/Dissertation/Experiment 1/Output_csv'"
      ],
      "execution_count": null,
      "outputs": []
    },
    {
      "cell_type": "markdown",
      "metadata": {
        "id": "eGNxrzoR5Tbo"
      },
      "source": [
        "#Model 7 Finite"
      ]
    },
    {
      "cell_type": "code",
      "metadata": {
        "id": "nPbHvr-B5Xyw"
      },
      "source": [
        "epochs = 20  \n",
        "from tensorflow.keras import layers, Sequential, Model, Input, optimizers\n",
        "adam = optimizers.Adam(lr=0.0005, beta_1=0.9, beta_2=0.999)\n",
        "transformer.compile(\n",
        "    optimizer = adam, loss=\"sparse_categorical_crossentropy\", metrics=[\"accuracy\"]\n",
        ")\n",
        "history = transformer.fit(train_ds, epochs=epochs, validation_data=val_ds, callbacks = checkpoint)"
      ],
      "execution_count": null,
      "outputs": []
    },
    {
      "cell_type": "code",
      "metadata": {
        "colab": {
          "base_uri": "https://localhost:8080/",
          "height": 337
        },
        "id": "iQyXVwbf6rJF",
        "outputId": "2f616c5a-7f21-41df-fc9e-acc335ade00b"
      },
      "source": [
        "plot_history(history)"
      ],
      "execution_count": null,
      "outputs": [
        {
          "output_type": "display_data",
          "data": {
            "image/png": "[encoded data removed]",
            "text/plain": [
              "<Figure size 864x360 with 2 Axes>"
            ]
          },
          "metadata": {}
        }
      ]
    },
    {
      "cell_type": "code",
      "metadata": {
        "colab": {
          "base_uri": "https://localhost:8080/"
        },
        "id": "J_fpn2DL61LA",
        "outputId": "e00941bc-9553-4647-a759-f76600dc0223"
      },
      "source": [
        "char_lookup = dict((v,k) for k,v in char_dict.items())\n",
        "char_lookup[0] = \" \"\n",
        "test_pred = transformer.predict(test_ds, verbose=1)\n",
        "pred_inflection = []\n",
        "for word in test_pred:\n",
        "  character = []\n",
        "  for letter in word:\n",
        "    index = np.argmax(letter)\n",
        "    char = char_lookup[index]\n",
        "    if char == \">\":\n",
        "      break\n",
        "    character.append(char)\n",
        "  inflection = \"\".join(character)\n",
        "  pred_inflection.append(inflection)"
      ],
      "execution_count": null,
      "outputs": [
        {
          "output_type": "stream",
          "name": "stdout",
          "text": [
            "6/6 [==============================] - 1s 23ms/step\n"
          ]
        }
      ]
    },
    {
      "cell_type": "code",
      "metadata": {
        "colab": {
          "base_uri": "https://localhost:8080/"
        },
        "id": "RYvmtIej7J6k",
        "outputId": "cfc48adf-ffc8-44c6-f83b-1b851aa02375"
      },
      "source": [
        "df_fin_test['pred'] = pred_inflection\n",
        "df_fin_test['Acc'] = np.where(df_fin_test['inflection'] == df_fin_test['pred'], 1,0)\n",
        "df_fin_test.to_csv('Prediction_fin.csv')\n",
        "!cp Prediction_fin.csv '/content/drive/My Drive/Dissertation/Experiment 1/Output_csv'"
      ],
      "execution_count": null,
      "outputs": [
        {
          "output_type": "stream",
          "name": "stderr",
          "text": [
            "/usr/local/lib/python3.7/dist-packages/ipykernel_launcher.py:1: SettingWithCopyWarning: \n",
            "A value is trying to be set on a copy of a slice from a DataFrame.\n",
            "Try using .loc[row_indexer,col_indexer] = value instead\n",
            "\n",
            "See the caveats in the documentation: https://pandas.pydata.org/pandas-docs/stable/user_guide/indexing.html#returning-a-view-versus-a-copy\n",
            "  \"\"\"Entry point for launching an IPython kernel.\n",
            "/usr/local/lib/python3.7/dist-packages/ipykernel_launcher.py:2: SettingWithCopyWarning: \n",
            "A value is trying to be set on a copy of a slice from a DataFrame.\n",
            "Try using .loc[row_indexer,col_indexer] = value instead\n",
            "\n",
            "See the caveats in the documentation: https://pandas.pydata.org/pandas-docs/stable/user_guide/indexing.html#returning-a-view-versus-a-copy\n",
            "  \n"
          ]
        }
      ]
    },
    {
      "cell_type": "markdown",
      "metadata": {
        "id": "bGwpk972Awmn"
      },
      "source": [
        "#Compare "
      ]
    },
    {
      "cell_type": "code",
      "metadata": {
        "colab": {
          "base_uri": "https://localhost:8080/",
          "height": 241
        },
        "id": "1UeH1E909rKS",
        "outputId": "30421847-7719-4639-b59c-dcb7acf0760d"
      },
      "source": [
        "df_result"
      ],
      "execution_count": null,
      "outputs": [
        {
          "output_type": "execute_result",
          "data": {
            "text/html": [
              "<div>\n",
              "<style scoped>\n",
              "    .dataframe tbody tr th:only-of-type {\n",
              "        vertical-align: middle;\n",
              "    }\n",
              "\n",
              "    .dataframe tbody tr th {\n",
              "        vertical-align: top;\n",
              "    }\n",
              "\n",
              "    .dataframe thead th {\n",
              "        text-align: right;\n",
              "    }\n",
              "</style>\n",
              "<table border=\"1\" class=\"dataframe\">\n",
              "  <thead>\n",
              "    <tr style=\"text-align: right;\">\n",
              "      <th></th>\n",
              "      <th>Type</th>\n",
              "      <th>Total Acc</th>\n",
              "      <th>Regular Acc</th>\n",
              "      <th>Irregular Acc</th>\n",
              "      <th>Test Regular%</th>\n",
              "      <th>Test Irregular%</th>\n",
              "      <th>Train Regular</th>\n",
              "      <th>Train Irregular</th>\n",
              "      <th>Train Regular%</th>\n",
              "      <th>Train Irregular%</th>\n",
              "    </tr>\n",
              "  </thead>\n",
              "  <tbody>\n",
              "    <tr>\n",
              "      <th>0</th>\n",
              "      <td>V;PST</td>\n",
              "      <td>0.918919</td>\n",
              "      <td>0.942308</td>\n",
              "      <td>0.898305</td>\n",
              "      <td>46.85%</td>\n",
              "      <td>53.15%</td>\n",
              "      <td>693.0</td>\n",
              "      <td>1002.0</td>\n",
              "      <td>40.88%</td>\n",
              "      <td>59.12%</td>\n",
              "    </tr>\n",
              "    <tr>\n",
              "      <th>1</th>\n",
              "      <td>V;V.PTCP;PST</td>\n",
              "      <td>0.827225</td>\n",
              "      <td>0.926829</td>\n",
              "      <td>0.752294</td>\n",
              "      <td>42.93%</td>\n",
              "      <td>57.07%</td>\n",
              "      <td>671.0</td>\n",
              "      <td>1023.0</td>\n",
              "      <td>39.61%</td>\n",
              "      <td>60.39%</td>\n",
              "    </tr>\n",
              "    <tr>\n",
              "      <th>2</th>\n",
              "      <td>V;V.PTCP;PRS</td>\n",
              "      <td>0.905941</td>\n",
              "      <td>0.970297</td>\n",
              "      <td>0.841584</td>\n",
              "      <td>50.00%</td>\n",
              "      <td>50.00%</td>\n",
              "      <td>828.0</td>\n",
              "      <td>852.0</td>\n",
              "      <td>49.29%</td>\n",
              "      <td>50.71%</td>\n",
              "    </tr>\n",
              "    <tr>\n",
              "      <th>3</th>\n",
              "      <td>V;NFIN</td>\n",
              "      <td>0.977143</td>\n",
              "      <td>0.977143</td>\n",
              "      <td>Nan</td>\n",
              "      <td>100.00%</td>\n",
              "      <td>0.00%</td>\n",
              "      <td>1716.0</td>\n",
              "      <td>0.0</td>\n",
              "      <td>100.00%</td>\n",
              "      <td>0.00%</td>\n",
              "    </tr>\n",
              "    <tr>\n",
              "      <th>4</th>\n",
              "      <td>V;3;SG;PRS</td>\n",
              "      <td>0.957143</td>\n",
              "      <td>0.956757</td>\n",
              "      <td>0.96</td>\n",
              "      <td>88.10%</td>\n",
              "      <td>11.90%</td>\n",
              "      <td>1564.0</td>\n",
              "      <td>151.0</td>\n",
              "      <td>91.20%</td>\n",
              "      <td>8.80%</td>\n",
              "    </tr>\n",
              "  </tbody>\n",
              "</table>\n",
              "</div>"
            ],
            "text/plain": [
              "           Type  Total Acc  ...  Train Regular% Train Irregular%\n",
              "0         V;PST   0.918919  ...          40.88%           59.12%\n",
              "1  V;V.PTCP;PST   0.827225  ...          39.61%           60.39%\n",
              "2  V;V.PTCP;PRS   0.905941  ...          49.29%           50.71%\n",
              "3        V;NFIN   0.977143  ...         100.00%            0.00%\n",
              "4    V;3;SG;PRS   0.957143  ...          91.20%            8.80%\n",
              "\n",
              "[5 rows x 10 columns]"
            ]
          },
          "metadata": {},
          "execution_count": 302
        }
      ]
    },
    {
      "cell_type": "code",
      "metadata": {
        "id": "UbUBw30yAzpJ"
      },
      "source": [
        "def tag_acc_each(dff, tag):\n",
        "  all_acc = sum(dff['Acc'])/len(dff)\n",
        "  df_reg = dff[dff['reg'] == 'Regular']\n",
        "  reg_acc = sum(df_reg['Acc'])/len(df_reg)\n",
        "  df_irr = dff[dff['reg'] == 'Irregular']\n",
        "  if len(df_irr) == 0:\n",
        "    irr_acc = 'Nan'\n",
        "  else:\n",
        "    irr_acc = sum(df_irr['Acc'])/len(df_irr)\n",
        "  return [tag, all_acc, reg_acc, irr_acc]"
      ],
      "execution_count": null,
      "outputs": []
    },
    {
      "cell_type": "code",
      "metadata": {
        "id": "fJ5q6BHoDNJK"
      },
      "source": [
        "tag_acc_each_list = [tag_acc_each(df_ed_test, 'V;PST'),\n",
        "                     tag_acc_each(df_en_test, 'V;V.PTCP;PST'),\n",
        "                     tag_acc_each(df_ing_test, 'V;V.PTCP;PRS'),\n",
        "                     tag_acc_each(df_fin_test, 'V;NFIN'),\n",
        "                     tag_acc_each(df_s_test, 'V;3;SG;PRS'),]"
      ],
      "execution_count": null,
      "outputs": []
    },
    {
      "cell_type": "code",
      "metadata": {
        "colab": {
          "base_uri": "https://localhost:8080/",
          "height": 258
        },
        "id": "p2vQaEGsD3oj",
        "outputId": "78b146a7-b16e-4144-b9ce-d14cf3797a3b"
      },
      "source": [
        "df_each = pd.DataFrame(tag_acc_each_list, columns = ['Type', 'Each Acc', 'Each Regular Acc', 'Each Irregular Acc'])\n",
        "df_all_results = pd.merge(df_result, df_each, on = 'Type')"
      ],
      "execution_count": null,
      "outputs": [
        {
          "output_type": "execute_result",
          "data": {
            "text/html": [
              "<div>\n",
              "<style scoped>\n",
              "    .dataframe tbody tr th:only-of-type {\n",
              "        vertical-align: middle;\n",
              "    }\n",
              "\n",
              "    .dataframe tbody tr th {\n",
              "        vertical-align: top;\n",
              "    }\n",
              "\n",
              "    .dataframe thead th {\n",
              "        text-align: right;\n",
              "    }\n",
              "</style>\n",
              "<table border=\"1\" class=\"dataframe\">\n",
              "  <thead>\n",
              "    <tr style=\"text-align: right;\">\n",
              "      <th></th>\n",
              "      <th>Type</th>\n",
              "      <th>Total Acc</th>\n",
              "      <th>Regular Acc</th>\n",
              "      <th>Irregular Acc</th>\n",
              "      <th>Test Regular%</th>\n",
              "      <th>Test Irregular%</th>\n",
              "      <th>Train Regular</th>\n",
              "      <th>Train Irregular</th>\n",
              "      <th>Train Regular%</th>\n",
              "      <th>Train Irregular%</th>\n",
              "      <th>Each Acc</th>\n",
              "      <th>Each Regular Acc</th>\n",
              "      <th>Each Irregular Acc</th>\n",
              "    </tr>\n",
              "  </thead>\n",
              "  <tbody>\n",
              "    <tr>\n",
              "      <th>0</th>\n",
              "      <td>V;PST</td>\n",
              "      <td>0.918919</td>\n",
              "      <td>0.942308</td>\n",
              "      <td>0.898305</td>\n",
              "      <td>46.85%</td>\n",
              "      <td>53.15%</td>\n",
              "      <td>693.0</td>\n",
              "      <td>1002.0</td>\n",
              "      <td>40.88%</td>\n",
              "      <td>59.12%</td>\n",
              "      <td>0.918919</td>\n",
              "      <td>0.942308</td>\n",
              "      <td>0.898305</td>\n",
              "    </tr>\n",
              "    <tr>\n",
              "      <th>1</th>\n",
              "      <td>V;V.PTCP;PST</td>\n",
              "      <td>0.827225</td>\n",
              "      <td>0.926829</td>\n",
              "      <td>0.752294</td>\n",
              "      <td>42.93%</td>\n",
              "      <td>57.07%</td>\n",
              "      <td>671.0</td>\n",
              "      <td>1023.0</td>\n",
              "      <td>39.61%</td>\n",
              "      <td>60.39%</td>\n",
              "      <td>0.837696</td>\n",
              "      <td>0.914634</td>\n",
              "      <td>0.779817</td>\n",
              "    </tr>\n",
              "    <tr>\n",
              "      <th>2</th>\n",
              "      <td>V;V.PTCP;PRS</td>\n",
              "      <td>0.905941</td>\n",
              "      <td>0.970297</td>\n",
              "      <td>0.841584</td>\n",
              "      <td>50.00%</td>\n",
              "      <td>50.00%</td>\n",
              "      <td>828.0</td>\n",
              "      <td>852.0</td>\n",
              "      <td>49.29%</td>\n",
              "      <td>50.71%</td>\n",
              "      <td>0.905941</td>\n",
              "      <td>0.970297</td>\n",
              "      <td>0.841584</td>\n",
              "    </tr>\n",
              "    <tr>\n",
              "      <th>3</th>\n",
              "      <td>V;NFIN</td>\n",
              "      <td>0.977143</td>\n",
              "      <td>0.977143</td>\n",
              "      <td>Nan</td>\n",
              "      <td>100.00%</td>\n",
              "      <td>0.00%</td>\n",
              "      <td>1716.0</td>\n",
              "      <td>0.0</td>\n",
              "      <td>100.00%</td>\n",
              "      <td>0.00%</td>\n",
              "      <td>0.965714</td>\n",
              "      <td>0.965714</td>\n",
              "      <td>Nan</td>\n",
              "    </tr>\n",
              "    <tr>\n",
              "      <th>4</th>\n",
              "      <td>V;3;SG;PRS</td>\n",
              "      <td>0.957143</td>\n",
              "      <td>0.956757</td>\n",
              "      <td>0.96</td>\n",
              "      <td>88.10%</td>\n",
              "      <td>11.90%</td>\n",
              "      <td>1564.0</td>\n",
              "      <td>151.0</td>\n",
              "      <td>91.20%</td>\n",
              "      <td>8.80%</td>\n",
              "      <td>0.957143</td>\n",
              "      <td>0.956757</td>\n",
              "      <td>0.96</td>\n",
              "    </tr>\n",
              "  </tbody>\n",
              "</table>\n",
              "</div>"
            ],
            "text/plain": [
              "           Type  Total Acc  ...  Each Regular Acc Each Irregular Acc\n",
              "0         V;PST   0.918919  ...          0.942308           0.898305\n",
              "1  V;V.PTCP;PST   0.827225  ...          0.914634           0.779817\n",
              "2  V;V.PTCP;PRS   0.905941  ...          0.970297           0.841584\n",
              "3        V;NFIN   0.977143  ...          0.965714                Nan\n",
              "4    V;3;SG;PRS   0.957143  ...          0.956757               0.96\n",
              "\n",
              "[5 rows x 13 columns]"
            ]
          },
          "metadata": {},
          "execution_count": 323
        }
      ]
    },
    {
      "cell_type": "code",
      "metadata": {
        "id": "Orr107IxHrPX"
      },
      "source": [
        "df_all_results = pd.merge(df_result, df_each, on = 'Type')\n",
        "df_all_results.to_csv('Model_Compare_Result.csv')\n",
        "!cp Model_Compare_Result.csv '/content/drive/My Drive/Dissertation/Experiment 1/Output_csv'"
      ],
      "execution_count": null,
      "outputs": []
    },
    {
      "cell_type": "code",
      "metadata": {
        "colab": {
          "base_uri": "https://localhost:8080/",
          "height": 419
        },
        "id": "PbmVQJmFJhHa",
        "outputId": "eab25062-0e4a-423c-bfb6-b62061640168"
      },
      "source": [
        "df_test"
      ],
      "execution_count": null,
      "outputs": [
        {
          "output_type": "execute_result",
          "data": {
            "text/html": [
              "<div>\n",
              "<style scoped>\n",
              "    .dataframe tbody tr th:only-of-type {\n",
              "        vertical-align: middle;\n",
              "    }\n",
              "\n",
              "    .dataframe tbody tr th {\n",
              "        vertical-align: top;\n",
              "    }\n",
              "\n",
              "    .dataframe thead th {\n",
              "        text-align: right;\n",
              "    }\n",
              "</style>\n",
              "<table border=\"1\" class=\"dataframe\">\n",
              "  <thead>\n",
              "    <tr style=\"text-align: right;\">\n",
              "      <th></th>\n",
              "      <th>root</th>\n",
              "      <th>inflection</th>\n",
              "      <th>tag</th>\n",
              "      <th>reg</th>\n",
              "      <th>tag_cat</th>\n",
              "      <th>input_tag</th>\n",
              "      <th>pred</th>\n",
              "      <th>Acc</th>\n",
              "    </tr>\n",
              "  </thead>\n",
              "  <tbody>\n",
              "    <tr>\n",
              "      <th>0</th>\n",
              "      <td>enwind</td>\n",
              "      <td>enwound</td>\n",
              "      <td>V;PST</td>\n",
              "      <td>Irregular</td>\n",
              "      <td>2</td>\n",
              "      <td>enwind2</td>\n",
              "      <td>enwuun</td>\n",
              "      <td>0</td>\n",
              "    </tr>\n",
              "    <tr>\n",
              "      <th>1</th>\n",
              "      <td>conscript</td>\n",
              "      <td>conscripted</td>\n",
              "      <td>V;PST</td>\n",
              "      <td>Regular</td>\n",
              "      <td>2</td>\n",
              "      <td>conscript2</td>\n",
              "      <td>conscripted</td>\n",
              "      <td>1</td>\n",
              "    </tr>\n",
              "    <tr>\n",
              "      <th>2</th>\n",
              "      <td>behallow</td>\n",
              "      <td>behallow</td>\n",
              "      <td>V;NFIN</td>\n",
              "      <td>Regular</td>\n",
              "      <td>1</td>\n",
              "      <td>behallow1</td>\n",
              "      <td>behallow</td>\n",
              "      <td>1</td>\n",
              "    </tr>\n",
              "    <tr>\n",
              "      <th>3</th>\n",
              "      <td>inbend</td>\n",
              "      <td>inbent</td>\n",
              "      <td>V;V.PTCP;PST</td>\n",
              "      <td>Irregular</td>\n",
              "      <td>4</td>\n",
              "      <td>inbend4</td>\n",
              "      <td>inbend</td>\n",
              "      <td>0</td>\n",
              "    </tr>\n",
              "    <tr>\n",
              "      <th>4</th>\n",
              "      <td>inchant</td>\n",
              "      <td>inchanting</td>\n",
              "      <td>V;V.PTCP;PRS</td>\n",
              "      <td>Regular</td>\n",
              "      <td>3</td>\n",
              "      <td>inchant3</td>\n",
              "      <td>inchanting</td>\n",
              "      <td>1</td>\n",
              "    </tr>\n",
              "    <tr>\n",
              "      <th>...</th>\n",
              "      <td>...</td>\n",
              "      <td>...</td>\n",
              "      <td>...</td>\n",
              "      <td>...</td>\n",
              "      <td>...</td>\n",
              "      <td>...</td>\n",
              "      <td>...</td>\n",
              "      <td>...</td>\n",
              "    </tr>\n",
              "    <tr>\n",
              "      <th>995</th>\n",
              "      <td>fulmine</td>\n",
              "      <td>fulmine</td>\n",
              "      <td>V;NFIN</td>\n",
              "      <td>Regular</td>\n",
              "      <td>1</td>\n",
              "      <td>fulmine1</td>\n",
              "      <td>fulmine</td>\n",
              "      <td>1</td>\n",
              "    </tr>\n",
              "    <tr>\n",
              "      <th>996</th>\n",
              "      <td>foozle</td>\n",
              "      <td>foozles</td>\n",
              "      <td>V;3;SG;PRS</td>\n",
              "      <td>Regular</td>\n",
              "      <td>0</td>\n",
              "      <td>foozle0</td>\n",
              "      <td>foozles</td>\n",
              "      <td>1</td>\n",
              "    </tr>\n",
              "    <tr>\n",
              "      <th>997</th>\n",
              "      <td>beseem</td>\n",
              "      <td>beseeming</td>\n",
              "      <td>V;V.PTCP;PRS</td>\n",
              "      <td>Regular</td>\n",
              "      <td>3</td>\n",
              "      <td>beseem3</td>\n",
              "      <td>beseeming</td>\n",
              "      <td>1</td>\n",
              "    </tr>\n",
              "    <tr>\n",
              "      <th>998</th>\n",
              "      <td>undumpish</td>\n",
              "      <td>undumpishes</td>\n",
              "      <td>V;3;SG;PRS</td>\n",
              "      <td>Irregular</td>\n",
              "      <td>0</td>\n",
              "      <td>undumpish0</td>\n",
              "      <td>undumpishes</td>\n",
              "      <td>1</td>\n",
              "    </tr>\n",
              "    <tr>\n",
              "      <th>999</th>\n",
              "      <td>underuse</td>\n",
              "      <td>underused</td>\n",
              "      <td>V;V.PTCP;PST</td>\n",
              "      <td>Irregular</td>\n",
              "      <td>4</td>\n",
              "      <td>underuse4</td>\n",
              "      <td>underused</td>\n",
              "      <td>1</td>\n",
              "    </tr>\n",
              "  </tbody>\n",
              "</table>\n",
              "<p>1000 rows × 8 columns</p>\n",
              "</div>"
            ],
            "text/plain": [
              "          root   inflection           tag  ...   input_tag         pred Acc\n",
              "0       enwind      enwound         V;PST  ...     enwind2       enwuun   0\n",
              "1    conscript  conscripted         V;PST  ...  conscript2  conscripted   1\n",
              "2     behallow     behallow        V;NFIN  ...   behallow1     behallow   1\n",
              "3       inbend       inbent  V;V.PTCP;PST  ...     inbend4       inbend   0\n",
              "4      inchant   inchanting  V;V.PTCP;PRS  ...    inchant3   inchanting   1\n",
              "..         ...          ...           ...  ...         ...          ...  ..\n",
              "995    fulmine      fulmine        V;NFIN  ...    fulmine1      fulmine   1\n",
              "996     foozle      foozles    V;3;SG;PRS  ...     foozle0      foozles   1\n",
              "997     beseem    beseeming  V;V.PTCP;PRS  ...     beseem3    beseeming   1\n",
              "998  undumpish  undumpishes    V;3;SG;PRS  ...  undumpish0  undumpishes   1\n",
              "999   underuse    underused  V;V.PTCP;PST  ...   underuse4    underused   1\n",
              "\n",
              "[1000 rows x 8 columns]"
            ]
          },
          "metadata": {},
          "execution_count": 334
        }
      ]
    },
    {
      "cell_type": "code",
      "metadata": {
        "colab": {
          "base_uri": "https://localhost:8080/",
          "height": 419
        },
        "id": "-mIuII-WKrMB",
        "outputId": "9ade39aa-77e2-4a00-f877-99c8e2da5e6c"
      },
      "source": [
        "df_test.reset_index(inplace=True)\n",
        "df_test = df_test.rename(columns = {'index':'Index'})\n",
        "df_test"
      ],
      "execution_count": null,
      "outputs": [
        {
          "output_type": "execute_result",
          "data": {
            "text/html": [
              "<div>\n",
              "<style scoped>\n",
              "    .dataframe tbody tr th:only-of-type {\n",
              "        vertical-align: middle;\n",
              "    }\n",
              "\n",
              "    .dataframe tbody tr th {\n",
              "        vertical-align: top;\n",
              "    }\n",
              "\n",
              "    .dataframe thead th {\n",
              "        text-align: right;\n",
              "    }\n",
              "</style>\n",
              "<table border=\"1\" class=\"dataframe\">\n",
              "  <thead>\n",
              "    <tr style=\"text-align: right;\">\n",
              "      <th></th>\n",
              "      <th>Index</th>\n",
              "      <th>root</th>\n",
              "      <th>inflection</th>\n",
              "      <th>tag</th>\n",
              "      <th>reg</th>\n",
              "      <th>tag_cat</th>\n",
              "      <th>input_tag</th>\n",
              "      <th>pred</th>\n",
              "      <th>Acc</th>\n",
              "    </tr>\n",
              "  </thead>\n",
              "  <tbody>\n",
              "    <tr>\n",
              "      <th>0</th>\n",
              "      <td>0</td>\n",
              "      <td>enwind</td>\n",
              "      <td>enwound</td>\n",
              "      <td>V;PST</td>\n",
              "      <td>Irregular</td>\n",
              "      <td>2</td>\n",
              "      <td>enwind2</td>\n",
              "      <td>enwuun</td>\n",
              "      <td>0</td>\n",
              "    </tr>\n",
              "    <tr>\n",
              "      <th>1</th>\n",
              "      <td>1</td>\n",
              "      <td>conscript</td>\n",
              "      <td>conscripted</td>\n",
              "      <td>V;PST</td>\n",
              "      <td>Regular</td>\n",
              "      <td>2</td>\n",
              "      <td>conscript2</td>\n",
              "      <td>conscripted</td>\n",
              "      <td>1</td>\n",
              "    </tr>\n",
              "    <tr>\n",
              "      <th>2</th>\n",
              "      <td>2</td>\n",
              "      <td>behallow</td>\n",
              "      <td>behallow</td>\n",
              "      <td>V;NFIN</td>\n",
              "      <td>Regular</td>\n",
              "      <td>1</td>\n",
              "      <td>behallow1</td>\n",
              "      <td>behallow</td>\n",
              "      <td>1</td>\n",
              "    </tr>\n",
              "    <tr>\n",
              "      <th>3</th>\n",
              "      <td>3</td>\n",
              "      <td>inbend</td>\n",
              "      <td>inbent</td>\n",
              "      <td>V;V.PTCP;PST</td>\n",
              "      <td>Irregular</td>\n",
              "      <td>4</td>\n",
              "      <td>inbend4</td>\n",
              "      <td>inbend</td>\n",
              "      <td>0</td>\n",
              "    </tr>\n",
              "    <tr>\n",
              "      <th>4</th>\n",
              "      <td>4</td>\n",
              "      <td>inchant</td>\n",
              "      <td>inchanting</td>\n",
              "      <td>V;V.PTCP;PRS</td>\n",
              "      <td>Regular</td>\n",
              "      <td>3</td>\n",
              "      <td>inchant3</td>\n",
              "      <td>inchanting</td>\n",
              "      <td>1</td>\n",
              "    </tr>\n",
              "    <tr>\n",
              "      <th>...</th>\n",
              "      <td>...</td>\n",
              "      <td>...</td>\n",
              "      <td>...</td>\n",
              "      <td>...</td>\n",
              "      <td>...</td>\n",
              "      <td>...</td>\n",
              "      <td>...</td>\n",
              "      <td>...</td>\n",
              "      <td>...</td>\n",
              "    </tr>\n",
              "    <tr>\n",
              "      <th>995</th>\n",
              "      <td>995</td>\n",
              "      <td>fulmine</td>\n",
              "      <td>fulmine</td>\n",
              "      <td>V;NFIN</td>\n",
              "      <td>Regular</td>\n",
              "      <td>1</td>\n",
              "      <td>fulmine1</td>\n",
              "      <td>fulmine</td>\n",
              "      <td>1</td>\n",
              "    </tr>\n",
              "    <tr>\n",
              "      <th>996</th>\n",
              "      <td>996</td>\n",
              "      <td>foozle</td>\n",
              "      <td>foozles</td>\n",
              "      <td>V;3;SG;PRS</td>\n",
              "      <td>Regular</td>\n",
              "      <td>0</td>\n",
              "      <td>foozle0</td>\n",
              "      <td>foozles</td>\n",
              "      <td>1</td>\n",
              "    </tr>\n",
              "    <tr>\n",
              "      <th>997</th>\n",
              "      <td>997</td>\n",
              "      <td>beseem</td>\n",
              "      <td>beseeming</td>\n",
              "      <td>V;V.PTCP;PRS</td>\n",
              "      <td>Regular</td>\n",
              "      <td>3</td>\n",
              "      <td>beseem3</td>\n",
              "      <td>beseeming</td>\n",
              "      <td>1</td>\n",
              "    </tr>\n",
              "    <tr>\n",
              "      <th>998</th>\n",
              "      <td>998</td>\n",
              "      <td>undumpish</td>\n",
              "      <td>undumpishes</td>\n",
              "      <td>V;3;SG;PRS</td>\n",
              "      <td>Irregular</td>\n",
              "      <td>0</td>\n",
              "      <td>undumpish0</td>\n",
              "      <td>undumpishes</td>\n",
              "      <td>1</td>\n",
              "    </tr>\n",
              "    <tr>\n",
              "      <th>999</th>\n",
              "      <td>999</td>\n",
              "      <td>underuse</td>\n",
              "      <td>underused</td>\n",
              "      <td>V;V.PTCP;PST</td>\n",
              "      <td>Irregular</td>\n",
              "      <td>4</td>\n",
              "      <td>underuse4</td>\n",
              "      <td>underused</td>\n",
              "      <td>1</td>\n",
              "    </tr>\n",
              "  </tbody>\n",
              "</table>\n",
              "<p>1000 rows × 9 columns</p>\n",
              "</div>"
            ],
            "text/plain": [
              "     Index       root   inflection  ...   input_tag         pred  Acc\n",
              "0        0     enwind      enwound  ...     enwind2       enwuun    0\n",
              "1        1  conscript  conscripted  ...  conscript2  conscripted    1\n",
              "2        2   behallow     behallow  ...   behallow1     behallow    1\n",
              "3        3     inbend       inbent  ...     inbend4       inbend    0\n",
              "4        4    inchant   inchanting  ...    inchant3   inchanting    1\n",
              "..     ...        ...          ...  ...         ...          ...  ...\n",
              "995    995    fulmine      fulmine  ...    fulmine1      fulmine    1\n",
              "996    996     foozle      foozles  ...     foozle0      foozles    1\n",
              "997    997     beseem    beseeming  ...     beseem3    beseeming    1\n",
              "998    998  undumpish  undumpishes  ...  undumpish0  undumpishes    1\n",
              "999    999   underuse    underused  ...   underuse4    underused    1\n",
              "\n",
              "[1000 rows x 9 columns]"
            ]
          },
          "metadata": {},
          "execution_count": 336
        }
      ]
    },
    {
      "cell_type": "code",
      "metadata": {
        "colab": {
          "base_uri": "https://localhost:8080/",
          "height": 204
        },
        "id": "WJwt64d9QXXP",
        "outputId": "5d4b90c3-df43-435e-f600-ff023cb2e8c7"
      },
      "source": [
        "df_test.head()"
      ],
      "execution_count": null,
      "outputs": [
        {
          "output_type": "execute_result",
          "data": {
            "text/html": [
              "<div>\n",
              "<style scoped>\n",
              "    .dataframe tbody tr th:only-of-type {\n",
              "        vertical-align: middle;\n",
              "    }\n",
              "\n",
              "    .dataframe tbody tr th {\n",
              "        vertical-align: top;\n",
              "    }\n",
              "\n",
              "    .dataframe thead th {\n",
              "        text-align: right;\n",
              "    }\n",
              "</style>\n",
              "<table border=\"1\" class=\"dataframe\">\n",
              "  <thead>\n",
              "    <tr style=\"text-align: right;\">\n",
              "      <th></th>\n",
              "      <th>Index</th>\n",
              "      <th>root</th>\n",
              "      <th>inflection</th>\n",
              "      <th>tag</th>\n",
              "      <th>reg</th>\n",
              "      <th>tag_cat</th>\n",
              "      <th>input_tag</th>\n",
              "      <th>pred</th>\n",
              "      <th>Acc</th>\n",
              "    </tr>\n",
              "  </thead>\n",
              "  <tbody>\n",
              "    <tr>\n",
              "      <th>0</th>\n",
              "      <td>0</td>\n",
              "      <td>enwind</td>\n",
              "      <td>enwound</td>\n",
              "      <td>V;PST</td>\n",
              "      <td>Irregular</td>\n",
              "      <td>2</td>\n",
              "      <td>enwind2</td>\n",
              "      <td>enwuun</td>\n",
              "      <td>0</td>\n",
              "    </tr>\n",
              "    <tr>\n",
              "      <th>1</th>\n",
              "      <td>1</td>\n",
              "      <td>conscript</td>\n",
              "      <td>conscripted</td>\n",
              "      <td>V;PST</td>\n",
              "      <td>Regular</td>\n",
              "      <td>2</td>\n",
              "      <td>conscript2</td>\n",
              "      <td>conscripted</td>\n",
              "      <td>1</td>\n",
              "    </tr>\n",
              "    <tr>\n",
              "      <th>2</th>\n",
              "      <td>2</td>\n",
              "      <td>behallow</td>\n",
              "      <td>behallow</td>\n",
              "      <td>V;NFIN</td>\n",
              "      <td>Regular</td>\n",
              "      <td>1</td>\n",
              "      <td>behallow1</td>\n",
              "      <td>behallow</td>\n",
              "      <td>1</td>\n",
              "    </tr>\n",
              "    <tr>\n",
              "      <th>3</th>\n",
              "      <td>3</td>\n",
              "      <td>inbend</td>\n",
              "      <td>inbent</td>\n",
              "      <td>V;V.PTCP;PST</td>\n",
              "      <td>Irregular</td>\n",
              "      <td>4</td>\n",
              "      <td>inbend4</td>\n",
              "      <td>inbend</td>\n",
              "      <td>0</td>\n",
              "    </tr>\n",
              "    <tr>\n",
              "      <th>4</th>\n",
              "      <td>4</td>\n",
              "      <td>inchant</td>\n",
              "      <td>inchanting</td>\n",
              "      <td>V;V.PTCP;PRS</td>\n",
              "      <td>Regular</td>\n",
              "      <td>3</td>\n",
              "      <td>inchant3</td>\n",
              "      <td>inchanting</td>\n",
              "      <td>1</td>\n",
              "    </tr>\n",
              "  </tbody>\n",
              "</table>\n",
              "</div>"
            ],
            "text/plain": [
              "   Index       root   inflection  ...   input_tag         pred  Acc\n",
              "0      0     enwind      enwound  ...     enwind2       enwuun    0\n",
              "1      1  conscript  conscripted  ...  conscript2  conscripted    1\n",
              "2      2   behallow     behallow  ...   behallow1     behallow    1\n",
              "3      3     inbend       inbent  ...     inbend4       inbend    0\n",
              "4      4    inchant   inchanting  ...    inchant3   inchanting    1\n",
              "\n",
              "[5 rows x 9 columns]"
            ]
          },
          "metadata": {},
          "execution_count": 373
        }
      ]
    },
    {
      "cell_type": "code",
      "metadata": {
        "colab": {
          "base_uri": "https://localhost:8080/"
        },
        "id": "PeFncMACQgPF",
        "outputId": "fe141f0d-da60-4e7c-b67d-ef7b239808d6"
      },
      "source": [
        "df_test.columns"
      ],
      "execution_count": null,
      "outputs": [
        {
          "output_type": "execute_result",
          "data": {
            "text/plain": [
              "Index(['Index', 'root', 'inflection', 'tag', 'reg', 'tag_cat', 'input_tag',\n",
              "       'pred', 'Acc'],\n",
              "      dtype='object')"
            ]
          },
          "metadata": {},
          "execution_count": 375
        }
      ]
    },
    {
      "cell_type": "code",
      "metadata": {
        "colab": {
          "base_uri": "https://localhost:8080/"
        },
        "id": "9oMzMItkQiol",
        "outputId": "0bb252c6-4dd9-4f16-a4d4-f54c7bcc70a1"
      },
      "source": [
        "df_each_test.columns"
      ],
      "execution_count": null,
      "outputs": [
        {
          "output_type": "execute_result",
          "data": {
            "text/plain": [
              "Index(['Index', 'root', 'inflection', 'tag', 'reg', 'tag_cat', 'input_tag',\n",
              "       'Each_pred', 'Each_Acc'],\n",
              "      dtype='object')"
            ]
          },
          "metadata": {},
          "execution_count": 376
        }
      ]
    },
    {
      "cell_type": "code",
      "metadata": {
        "id": "F0btxaLEMx4s"
      },
      "source": [
        "def indexcol (dff):\n",
        "  dff.reset_index(inplace=True)\n",
        "  dff = dff.rename(columns = {'index':'Index'})\n",
        "  return dff\n",
        "df_ed_test = indexcol(df_ed_test)\n",
        "df_ing_test = indexcol(df_ing_test)\n",
        "df_s_test = indexcol(df_s_test)\n",
        "df_fin_test = indexcol(df_fin_test)"
      ],
      "execution_count": null,
      "outputs": []
    },
    {
      "cell_type": "code",
      "metadata": {
        "id": "_-EKBk49J1Or"
      },
      "source": [
        "df_en_test = pd.read_csv('/content/drive/My Drive/Dissertation/Experiment 1/Output_csv/Prediction_ptcp_pst_en.csv')"
      ],
      "execution_count": null,
      "outputs": []
    },
    {
      "cell_type": "code",
      "metadata": {
        "id": "6IPx4XKnMIW6"
      },
      "source": [
        "df_each_test = pd.concat([df_en_test, df_ing_test, df_s_test, df_fin_test, df_ed_test]).sort_values(by='Index')"
      ],
      "execution_count": null,
      "outputs": []
    },
    {
      "cell_type": "code",
      "metadata": {
        "id": "91AobDF1PuiB"
      },
      "source": [
        "df_each_test=df_each_test.rename(columns = {'pred':'Each_pred','Acc':'Each_Acc'})"
      ],
      "execution_count": null,
      "outputs": []
    },
    {
      "cell_type": "code",
      "metadata": {
        "colab": {
          "base_uri": "https://localhost:8080/",
          "height": 221
        },
        "id": "lz-MZrnVPo5Q",
        "outputId": "3cab8dec-5f7b-4ba0-d220-1f5c935b8eea"
      },
      "source": [
        "df_each_test.head()"
      ],
      "execution_count": null,
      "outputs": [
        {
          "output_type": "execute_result",
          "data": {
            "text/html": [
              "<div>\n",
              "<style scoped>\n",
              "    .dataframe tbody tr th:only-of-type {\n",
              "        vertical-align: middle;\n",
              "    }\n",
              "\n",
              "    .dataframe tbody tr th {\n",
              "        vertical-align: top;\n",
              "    }\n",
              "\n",
              "    .dataframe thead th {\n",
              "        text-align: right;\n",
              "    }\n",
              "</style>\n",
              "<table border=\"1\" class=\"dataframe\">\n",
              "  <thead>\n",
              "    <tr style=\"text-align: right;\">\n",
              "      <th></th>\n",
              "      <th>Index</th>\n",
              "      <th>root</th>\n",
              "      <th>inflection</th>\n",
              "      <th>tag</th>\n",
              "      <th>reg</th>\n",
              "      <th>tag_cat</th>\n",
              "      <th>input_tag</th>\n",
              "      <th>Each_pred</th>\n",
              "      <th>Each_Acc</th>\n",
              "    </tr>\n",
              "  </thead>\n",
              "  <tbody>\n",
              "    <tr>\n",
              "      <th>0</th>\n",
              "      <td>0</td>\n",
              "      <td>enwind</td>\n",
              "      <td>enwound</td>\n",
              "      <td>V;PST</td>\n",
              "      <td>Irregular</td>\n",
              "      <td>2</td>\n",
              "      <td>enwind2</td>\n",
              "      <td>enwuun</td>\n",
              "      <td>0</td>\n",
              "    </tr>\n",
              "    <tr>\n",
              "      <th>1</th>\n",
              "      <td>1</td>\n",
              "      <td>conscript</td>\n",
              "      <td>conscripted</td>\n",
              "      <td>V;PST</td>\n",
              "      <td>Regular</td>\n",
              "      <td>2</td>\n",
              "      <td>conscript2</td>\n",
              "      <td>conscripted</td>\n",
              "      <td>1</td>\n",
              "    </tr>\n",
              "    <tr>\n",
              "      <th>0</th>\n",
              "      <td>2</td>\n",
              "      <td>behallow</td>\n",
              "      <td>behallow</td>\n",
              "      <td>V;NFIN</td>\n",
              "      <td>Regular</td>\n",
              "      <td>1</td>\n",
              "      <td>behallow1</td>\n",
              "      <td>behallow</td>\n",
              "      <td>1</td>\n",
              "    </tr>\n",
              "    <tr>\n",
              "      <th>0</th>\n",
              "      <td>3</td>\n",
              "      <td>inbend</td>\n",
              "      <td>inbent</td>\n",
              "      <td>V;V.PTCP;PST</td>\n",
              "      <td>Irregular</td>\n",
              "      <td>4</td>\n",
              "      <td>inbend4</td>\n",
              "      <td>inbende ededddddeedd</td>\n",
              "      <td>0</td>\n",
              "    </tr>\n",
              "    <tr>\n",
              "      <th>0</th>\n",
              "      <td>4</td>\n",
              "      <td>inchant</td>\n",
              "      <td>inchanting</td>\n",
              "      <td>V;V.PTCP;PRS</td>\n",
              "      <td>Regular</td>\n",
              "      <td>3</td>\n",
              "      <td>inchant3</td>\n",
              "      <td>inchanting</td>\n",
              "      <td>1</td>\n",
              "    </tr>\n",
              "  </tbody>\n",
              "</table>\n",
              "</div>"
            ],
            "text/plain": [
              "   Index       root   inflection  ...   input_tag             Each_pred  Each_Acc\n",
              "0      0     enwind      enwound  ...     enwind2                enwuun         0\n",
              "1      1  conscript  conscripted  ...  conscript2           conscripted         1\n",
              "0      2   behallow     behallow  ...   behallow1              behallow         1\n",
              "0      3     inbend       inbent  ...     inbend4  inbende ededddddeedd         0\n",
              "0      4    inchant   inchanting  ...    inchant3            inchanting         1\n",
              "\n",
              "[5 rows x 9 columns]"
            ]
          },
          "metadata": {},
          "execution_count": 368
        }
      ]
    },
    {
      "cell_type": "code",
      "metadata": {
        "colab": {
          "base_uri": "https://localhost:8080/",
          "height": 241
        },
        "id": "qgwbWmvYQQdJ",
        "outputId": "6bbba475-806f-4689-f1f7-4b0f22a3d561"
      },
      "source": [
        "df_compare.head()"
      ],
      "execution_count": null,
      "outputs": [
        {
          "output_type": "execute_result",
          "data": {
            "text/html": [
              "<div>\n",
              "<style scoped>\n",
              "    .dataframe tbody tr th:only-of-type {\n",
              "        vertical-align: middle;\n",
              "    }\n",
              "\n",
              "    .dataframe tbody tr th {\n",
              "        vertical-align: top;\n",
              "    }\n",
              "\n",
              "    .dataframe thead th {\n",
              "        text-align: right;\n",
              "    }\n",
              "</style>\n",
              "<table border=\"1\" class=\"dataframe\">\n",
              "  <thead>\n",
              "    <tr style=\"text-align: right;\">\n",
              "      <th></th>\n",
              "      <th>Index</th>\n",
              "      <th>root</th>\n",
              "      <th>inflection</th>\n",
              "      <th>tag</th>\n",
              "      <th>reg</th>\n",
              "      <th>tag_cat</th>\n",
              "      <th>input_tag</th>\n",
              "      <th>pred</th>\n",
              "      <th>Acc</th>\n",
              "      <th>Each_pred</th>\n",
              "      <th>Each_Acc</th>\n",
              "      <th>Compare</th>\n",
              "    </tr>\n",
              "  </thead>\n",
              "  <tbody>\n",
              "    <tr>\n",
              "      <th>0</th>\n",
              "      <td>0</td>\n",
              "      <td>enwind</td>\n",
              "      <td>enwound</td>\n",
              "      <td>V;PST</td>\n",
              "      <td>Irregular</td>\n",
              "      <td>2</td>\n",
              "      <td>enwind2</td>\n",
              "      <td>enwuun</td>\n",
              "      <td>0</td>\n",
              "      <td>enwuun</td>\n",
              "      <td>0</td>\n",
              "      <td>Same</td>\n",
              "    </tr>\n",
              "    <tr>\n",
              "      <th>1</th>\n",
              "      <td>1</td>\n",
              "      <td>conscript</td>\n",
              "      <td>conscripted</td>\n",
              "      <td>V;PST</td>\n",
              "      <td>Regular</td>\n",
              "      <td>2</td>\n",
              "      <td>conscript2</td>\n",
              "      <td>conscripted</td>\n",
              "      <td>1</td>\n",
              "      <td>conscripted</td>\n",
              "      <td>1</td>\n",
              "      <td>Same</td>\n",
              "    </tr>\n",
              "    <tr>\n",
              "      <th>2</th>\n",
              "      <td>2</td>\n",
              "      <td>behallow</td>\n",
              "      <td>behallow</td>\n",
              "      <td>V;NFIN</td>\n",
              "      <td>Regular</td>\n",
              "      <td>1</td>\n",
              "      <td>behallow1</td>\n",
              "      <td>behallow</td>\n",
              "      <td>1</td>\n",
              "      <td>behallow</td>\n",
              "      <td>1</td>\n",
              "      <td>Same</td>\n",
              "    </tr>\n",
              "    <tr>\n",
              "      <th>3</th>\n",
              "      <td>3</td>\n",
              "      <td>inbend</td>\n",
              "      <td>inbent</td>\n",
              "      <td>V;V.PTCP;PST</td>\n",
              "      <td>Irregular</td>\n",
              "      <td>4</td>\n",
              "      <td>inbend4</td>\n",
              "      <td>inbend</td>\n",
              "      <td>0</td>\n",
              "      <td>inbende ededddddeedd</td>\n",
              "      <td>0</td>\n",
              "      <td>Not Same</td>\n",
              "    </tr>\n",
              "    <tr>\n",
              "      <th>4</th>\n",
              "      <td>4</td>\n",
              "      <td>inchant</td>\n",
              "      <td>inchanting</td>\n",
              "      <td>V;V.PTCP;PRS</td>\n",
              "      <td>Regular</td>\n",
              "      <td>3</td>\n",
              "      <td>inchant3</td>\n",
              "      <td>inchanting</td>\n",
              "      <td>1</td>\n",
              "      <td>inchanting</td>\n",
              "      <td>1</td>\n",
              "      <td>Same</td>\n",
              "    </tr>\n",
              "  </tbody>\n",
              "</table>\n",
              "</div>"
            ],
            "text/plain": [
              "   Index       root   inflection  ...             Each_pred Each_Acc   Compare\n",
              "0      0     enwind      enwound  ...                enwuun        0      Same\n",
              "1      1  conscript  conscripted  ...           conscripted        1      Same\n",
              "2      2   behallow     behallow  ...              behallow        1      Same\n",
              "3      3     inbend       inbent  ...  inbende ededddddeedd        0  Not Same\n",
              "4      4    inchant   inchanting  ...            inchanting        1      Same\n",
              "\n",
              "[5 rows x 12 columns]"
            ]
          },
          "metadata": {},
          "execution_count": 381
        }
      ]
    },
    {
      "cell_type": "code",
      "metadata": {
        "id": "pFq_KmbuPlzt"
      },
      "source": [
        "df_compare = pd.merge(df_test, df_each_test[['Index','Each_pred', 'Each_Acc']], on= 'Index')"
      ],
      "execution_count": null,
      "outputs": []
    },
    {
      "cell_type": "code",
      "metadata": {
        "id": "aeHw7NTDQytH"
      },
      "source": [
        "df_compare['Compare'] = np.where(df_compare['pred'] == df_compare['Each_pred'], 'Same','Not Same')\n"
      ],
      "execution_count": null,
      "outputs": []
    },
    {
      "cell_type": "code",
      "metadata": {
        "colab": {
          "base_uri": "https://localhost:8080/",
          "height": 35
        },
        "id": "PNVhSiBjRSIe",
        "outputId": "ee963284-1802-4735-f060-649e6f0c0e05"
      },
      "source": [
        "output_path"
      ],
      "execution_count": null,
      "outputs": [
        {
          "output_type": "execute_result",
          "data": {
            "application/vnd.google.colaboratory.intrinsic+json": {
              "type": "string"
            },
            "text/plain": [
              "'/content/drive/My Drive/Dissertation/Experiment 1/Output_csv'"
            ]
          },
          "metadata": {},
          "execution_count": 383
        }
      ]
    },
    {
      "cell_type": "code",
      "metadata": {
        "id": "JyCATU1zRJsU"
      },
      "source": [
        "df_compare.to_csv('Prediction_Compare_Results_All.csv')\n",
        "!cp 'Prediction_Compare_Results_All.csv' '/content/drive/My Drive/Dissertation/Experiment 1/Output_csv'"
      ],
      "execution_count": null,
      "outputs": []
    }
  ]
}